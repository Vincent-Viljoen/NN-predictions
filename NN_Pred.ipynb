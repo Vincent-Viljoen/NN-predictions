{
  "nbformat": 4,
  "nbformat_minor": 0,
  "metadata": {
    "colab": {
      "provenance": []
    },
    "kernelspec": {
      "name": "python3",
      "display_name": "Python 3"
    },
    "language_info": {
      "name": "python"
    },
    "accelerator": "GPU",
    "gpuClass": "standard"
  },
  "cells": [
    {
      "cell_type": "code",
      "execution_count": null,
      "metadata": {
        "id": "Z7O86QLuTBp8"
      },
      "outputs": [],
      "source": [
        "import os\n",
        "import random\n",
        "\n",
        "import datetime\n",
        "from datetime import timedelta\n",
        "from dateutil.relativedelta import relativedelta, MO\n",
        "import calendar\n",
        "import numpy as np\n",
        "import pandas as pd\n",
        "from numpy import sqrt\n",
        "\n",
        "from sklearn.model_selection import train_test_split, cross_val_score, KFold\n",
        "from sklearn.metrics import mean_squared_error as MSE, accuracy_score, f1_score, mean_absolute_error\n",
        "from sklearn.preprocessing import StandardScaler\n",
        "import xgboost as xgb\n",
        "from sklearn.model_selection import RandomizedSearchCV\n",
        "from statistics import variance\n",
        "from scipy.ndimage.filters import gaussian_filter1d\n",
        "\n",
        "from sklearn.preprocessing import StandardScaler\n",
        "from sklearn.model_selection import train_test_split\n",
        "from sklearn.pipeline import make_pipeline\n",
        "from sklearn.ensemble import GradientBoostingRegressor\n",
        "from sklearn.decomposition import PCA\n",
        "from sklearn.metrics import mean_squared_error\n",
        "\n",
        "from tensorflow import keras\n",
        "\n",
        "from keras.models import Sequential\n",
        "from keras.layers import LSTM, Dense, Bidirectional, Dropout, Dense, GRU\n",
        "from keras.layers import concatenate\n",
        "\n",
        "from pandas import read_csv\n",
        "from pandas import DataFrame\n",
        "from pandas import concat\n",
        "from sklearn.preprocessing import LabelEncoder\n",
        "from sklearn.preprocessing import MinMaxScaler\n",
        "\n",
        "import matplotlib.pyplot as plt\n",
        "import seaborn as sns\n",
        "\n",
        "pd.set_option('mode.chained_assignment', None)\n",
        "parser = lambda x: datetime.strptime(x, '%Y-%m-%d')"
      ]
    },
    {
      "cell_type": "markdown",
      "source": [
        "## Define feature functions"
      ],
      "metadata": {
        "id": "NvqC30OwThQF"
      }
    },
    {
      "cell_type": "code",
      "source": [
        "# Identify Wednesday\n",
        "\n",
        "def is_wednesday(df):\n",
        "  df['Weekday'] = df['Date'].dt.dayofweek\n",
        "  df['Month'] = df['Date'].dt.month\n",
        "\n",
        "  def is_wednesday(weekday):\n",
        "    if weekday == 2:\n",
        "      return 1\n",
        "    else:\n",
        "      return 0\n",
        "\n",
        "  df['isWednesday'] = df['Weekday'].apply(lambda DOW : is_wednesday(DOW))\n",
        "\n",
        "  return df"
      ],
      "metadata": {
        "id": "CkoQ7_hKTi0P"
      },
      "execution_count": null,
      "outputs": []
    },
    {
      "cell_type": "code",
      "source": [
        "def last_Wednesday_date(df):\n",
        "  df['Last_Wednesday_Date'] = np.nan\n",
        "\n",
        "  for idx, row in df.iterrows():\n",
        "\n",
        "    date = df.Date[idx]\n",
        "    day_of_week = date.weekday()\n",
        "    # Calculate how many days until the last day of the month\n",
        "    last_day = datetime.date(date.year, date.month, 1) + timedelta(days=32)\n",
        "    last_day = last_day.replace(day=1) - timedelta(days=1)\n",
        "    num_days_to_last_day = last_day.day - date.day\n",
        "    \n",
        "\n",
        "    # Calculate how many days until the last Wednesday of the month\n",
        "    num_days_to_last_wednesday = (7 + 3 - day_of_week) % 7 + num_days_to_last_day\n",
        "\n",
        "    # Add the number of days until the last Wednesday to the current date to get the last Wednesday of the month\n",
        "    last_wednesday = date + timedelta(days=num_days_to_last_wednesday)\n",
        "\n",
        "    df['Last_Wednesday_Date'][idx] = last_wednesday\n",
        "\n",
        "  return df"
      ],
      "metadata": {
        "id": "T_xZ47frThAK"
      },
      "execution_count": null,
      "outputs": []
    },
    {
      "cell_type": "code",
      "source": [
        "# Flag if last wednesday of the month\n",
        "\n",
        "def is_last_wednesday(df):\n",
        "\n",
        "  df['is_last_wednesday'] = 0\n",
        "\n",
        "  for index, row in df.iterrows():\n",
        "    # get the last day of the month for the date in the row\n",
        "    last_day_of_month = pd.to_datetime(row['Date'].strftime('%Y-%m-') + '01') + pd.offsets.MonthEnd(1)\n",
        "    # get the last Wednesday of the month\n",
        "    last_wednesday_of_month = last_day_of_month - pd.offsets.Week(weekday=2)\n",
        "    # check if the date in the row is the last Wednesday of the month\n",
        "    if row['Date'] == last_wednesday_of_month:\n",
        "      df.loc[index, 'is_last_wednesday'] = 1\n",
        "\n",
        "  return df"
      ],
      "metadata": {
        "id": "W0VogakMTmR4"
      },
      "execution_count": null,
      "outputs": []
    },
    {
      "cell_type": "code",
      "source": [
        "# Daily absolute variance\n",
        "\n",
        "def daily_variance(df):\n",
        "  df['Daily_Variance'] = df.hrc.diff().fillna(np.mean(df['hrc']))\n",
        "\n",
        "  return df"
      ],
      "metadata": {
        "id": "IW9ho3cTTnuq"
      },
      "execution_count": null,
      "outputs": []
    },
    {
      "cell_type": "code",
      "source": [
        "# Create time shifts\n",
        "\n",
        "def create_shifts(df):\n",
        "  df['hrc_L5'] = df['hrc'].shift(5).fillna(np.mean(df['hrc']))\n",
        "  df['hrc_L10'] = df['hrc'].shift(10).fillna(np.mean(df['hrc']))\n",
        "  df['hrc_L15'] = df['hrc'].shift(15).fillna(np.mean(df['hrc']))\n",
        "\n",
        "  return df"
      ],
      "metadata": {
        "id": "RVpmOu8dTpLG"
      },
      "execution_count": null,
      "outputs": []
    },
    {
      "cell_type": "code",
      "source": [
        "def calculate_mean_variance(df, colname, period):\n",
        "\n",
        "  # Calculate the difference between each row and the previous row\n",
        "  df['diff'] = df['hrc'].diff()\n",
        "\n",
        "  # Calculate the rolling mean for the last 10 rows\n",
        "  df[colname] = df['diff'].rolling(period).mean()\n",
        "\n",
        "  df[colname] = df[colname].bfill()\n",
        "\n",
        "  return df"
      ],
      "metadata": {
        "id": "TkcfbrP4Tqko"
      },
      "execution_count": null,
      "outputs": []
    },
    {
      "cell_type": "code",
      "source": [
        "# Create time features\n",
        "\n",
        "def create_time_features(df, label=None):\n",
        "    df['quarter'] = df['Date'].dt.quarter\n",
        "    df['month'] = df['Date'].dt.month\n",
        "    df['year'] = df['Date'].dt.year\n",
        "    df['dayofyear'] = df['Date'].dt.dayofyear\n",
        "    df['dayofmonth'] = df['Date'].dt.day\n",
        "\n",
        "    return df"
      ],
      "metadata": {
        "id": "_EL_QBa8Trn-"
      },
      "execution_count": null,
      "outputs": []
    },
    {
      "cell_type": "code",
      "source": [
        "# last wednesday hrc price\n",
        "\n",
        "def return_last_wednesday_hrc(df):\n",
        "  df['Last_Wednesday_HRC'] = np.nan\n",
        "  df['Last_Wednesday_Date'] = np.nan\n",
        "\n",
        "  for idx, row in df.iterrows():\n",
        "    try:\n",
        "\n",
        "      wednesday_check = 0\n",
        "      for i in range(0, 30):\n",
        "        wednesday_check = df['is_last_wednesday'][idx + i]\n",
        "        if wednesday_check == 1:\n",
        "          next_wed_idx = idx + i\n",
        "\n",
        "          break\n",
        "\n",
        "      df['Last_Wednesday_HRC'][idx - 1: next_wed_idx] = df['hrc'][next_wed_idx]\n",
        "      df['Last_Wednesday_Date'][idx - 1: next_wed_idx] = df['Date'][next_wed_idx]\n",
        "\n",
        "    except Exception as e:\n",
        "      pass\n",
        "\n",
        "  df['Last_Wednesday_HRC'] = df['Last_Wednesday_HRC'].ffill()\n",
        "  return df"
      ],
      "metadata": {
        "id": "lPV4RQNFTuhn"
      },
      "execution_count": null,
      "outputs": []
    },
    {
      "cell_type": "code",
      "source": [
        "raw_data = pd.read_csv('/content/data.csv', parse_dates=True, date_parser=parser)\n",
        "raw_data['Date'] = pd.to_datetime(raw_data.Date)"
      ],
      "metadata": {
        "id": "7EYm706FTX3Z"
      },
      "execution_count": null,
      "outputs": []
    },
    {
      "cell_type": "code",
      "source": [
        "raw_data = pd.read_csv('/content/data.csv', parse_dates=True, date_parser=parser)\n",
        "raw_data['Date'] = pd.to_datetime(raw_data.Date)\n",
        "\n",
        "raw_data = is_wednesday(raw_data)\n",
        "raw_data = is_last_wednesday(raw_data)\n",
        "raw_data = daily_variance(raw_data)\n",
        "raw_data = create_shifts(raw_data)\n",
        "raw_data = create_time_features(raw_data)\n",
        "raw_data = return_last_wednesday_hrc(raw_data)"
      ],
      "metadata": {
        "id": "P5jgip1cTfUX"
      },
      "execution_count": null,
      "outputs": []
    },
    {
      "cell_type": "code",
      "source": [
        "raw_data.head()"
      ],
      "metadata": {
        "colab": {
          "base_uri": "https://localhost:8080/",
          "height": 366
        },
        "id": "TvZtoKajUr62",
        "outputId": "06d9375b-952f-4eb4-dd71-fca89b2164b3"
      },
      "execution_count": null,
      "outputs": [
        {
          "output_type": "execute_result",
          "data": {
            "text/plain": [
              "        Date    hrc  iron  natural_gas  copper    oil  us_ppi  us_ism_pmi  \\\n",
              "0 2008-10-20  680.0  85.0        6.741   6.741  72.03   148.2        47.2   \n",
              "1 2008-10-21  680.0  80.0        6.844   6.844  69.72   148.2        47.2   \n",
              "2 2008-10-22  665.0  80.0        6.777   6.777  64.52   148.2        47.2   \n",
              "3 2008-10-23  665.0  80.0        6.419   6.419  65.92   148.2        47.2   \n",
              "4 2008-10-24  665.0  80.0        6.239   6.239  62.05   148.2        47.2   \n",
              "\n",
              "   Weekday  Month  ...      hrc_L5     hrc_L10     hrc_L15  quarter  month  \\\n",
              "0        0     10  ...  709.816624  709.816624  709.816624        4     10   \n",
              "1        1     10  ...  709.816624  709.816624  709.816624        4     10   \n",
              "2        2     10  ...  709.816624  709.816624  709.816624        4     10   \n",
              "3        3     10  ...  709.816624  709.816624  709.816624        4     10   \n",
              "4        4     10  ...  709.816624  709.816624  709.816624        4     10   \n",
              "\n",
              "   year  dayofyear  dayofmonth  Last_Wednesday_HRC  Last_Wednesday_Date  \n",
              "0  2008        294          20               655.0  2008-10-29 00:00:00  \n",
              "1  2008        295          21               655.0  2008-10-29 00:00:00  \n",
              "2  2008        296          22               655.0  2008-10-29 00:00:00  \n",
              "3  2008        297          23               655.0  2008-10-29 00:00:00  \n",
              "4  2008        298          24               655.0  2008-10-29 00:00:00  \n",
              "\n",
              "[5 rows x 23 columns]"
            ],
            "text/html": [
              "\n",
              "  <div id=\"df-5c6336ea-b79d-424d-8fb5-016914799c14\">\n",
              "    <div class=\"colab-df-container\">\n",
              "      <div>\n",
              "<style scoped>\n",
              "    .dataframe tbody tr th:only-of-type {\n",
              "        vertical-align: middle;\n",
              "    }\n",
              "\n",
              "    .dataframe tbody tr th {\n",
              "        vertical-align: top;\n",
              "    }\n",
              "\n",
              "    .dataframe thead th {\n",
              "        text-align: right;\n",
              "    }\n",
              "</style>\n",
              "<table border=\"1\" class=\"dataframe\">\n",
              "  <thead>\n",
              "    <tr style=\"text-align: right;\">\n",
              "      <th></th>\n",
              "      <th>Date</th>\n",
              "      <th>hrc</th>\n",
              "      <th>iron</th>\n",
              "      <th>natural_gas</th>\n",
              "      <th>copper</th>\n",
              "      <th>oil</th>\n",
              "      <th>us_ppi</th>\n",
              "      <th>us_ism_pmi</th>\n",
              "      <th>Weekday</th>\n",
              "      <th>Month</th>\n",
              "      <th>...</th>\n",
              "      <th>hrc_L5</th>\n",
              "      <th>hrc_L10</th>\n",
              "      <th>hrc_L15</th>\n",
              "      <th>quarter</th>\n",
              "      <th>month</th>\n",
              "      <th>year</th>\n",
              "      <th>dayofyear</th>\n",
              "      <th>dayofmonth</th>\n",
              "      <th>Last_Wednesday_HRC</th>\n",
              "      <th>Last_Wednesday_Date</th>\n",
              "    </tr>\n",
              "  </thead>\n",
              "  <tbody>\n",
              "    <tr>\n",
              "      <th>0</th>\n",
              "      <td>2008-10-20</td>\n",
              "      <td>680.0</td>\n",
              "      <td>85.0</td>\n",
              "      <td>6.741</td>\n",
              "      <td>6.741</td>\n",
              "      <td>72.03</td>\n",
              "      <td>148.2</td>\n",
              "      <td>47.2</td>\n",
              "      <td>0</td>\n",
              "      <td>10</td>\n",
              "      <td>...</td>\n",
              "      <td>709.816624</td>\n",
              "      <td>709.816624</td>\n",
              "      <td>709.816624</td>\n",
              "      <td>4</td>\n",
              "      <td>10</td>\n",
              "      <td>2008</td>\n",
              "      <td>294</td>\n",
              "      <td>20</td>\n",
              "      <td>655.0</td>\n",
              "      <td>2008-10-29 00:00:00</td>\n",
              "    </tr>\n",
              "    <tr>\n",
              "      <th>1</th>\n",
              "      <td>2008-10-21</td>\n",
              "      <td>680.0</td>\n",
              "      <td>80.0</td>\n",
              "      <td>6.844</td>\n",
              "      <td>6.844</td>\n",
              "      <td>69.72</td>\n",
              "      <td>148.2</td>\n",
              "      <td>47.2</td>\n",
              "      <td>1</td>\n",
              "      <td>10</td>\n",
              "      <td>...</td>\n",
              "      <td>709.816624</td>\n",
              "      <td>709.816624</td>\n",
              "      <td>709.816624</td>\n",
              "      <td>4</td>\n",
              "      <td>10</td>\n",
              "      <td>2008</td>\n",
              "      <td>295</td>\n",
              "      <td>21</td>\n",
              "      <td>655.0</td>\n",
              "      <td>2008-10-29 00:00:00</td>\n",
              "    </tr>\n",
              "    <tr>\n",
              "      <th>2</th>\n",
              "      <td>2008-10-22</td>\n",
              "      <td>665.0</td>\n",
              "      <td>80.0</td>\n",
              "      <td>6.777</td>\n",
              "      <td>6.777</td>\n",
              "      <td>64.52</td>\n",
              "      <td>148.2</td>\n",
              "      <td>47.2</td>\n",
              "      <td>2</td>\n",
              "      <td>10</td>\n",
              "      <td>...</td>\n",
              "      <td>709.816624</td>\n",
              "      <td>709.816624</td>\n",
              "      <td>709.816624</td>\n",
              "      <td>4</td>\n",
              "      <td>10</td>\n",
              "      <td>2008</td>\n",
              "      <td>296</td>\n",
              "      <td>22</td>\n",
              "      <td>655.0</td>\n",
              "      <td>2008-10-29 00:00:00</td>\n",
              "    </tr>\n",
              "    <tr>\n",
              "      <th>3</th>\n",
              "      <td>2008-10-23</td>\n",
              "      <td>665.0</td>\n",
              "      <td>80.0</td>\n",
              "      <td>6.419</td>\n",
              "      <td>6.419</td>\n",
              "      <td>65.92</td>\n",
              "      <td>148.2</td>\n",
              "      <td>47.2</td>\n",
              "      <td>3</td>\n",
              "      <td>10</td>\n",
              "      <td>...</td>\n",
              "      <td>709.816624</td>\n",
              "      <td>709.816624</td>\n",
              "      <td>709.816624</td>\n",
              "      <td>4</td>\n",
              "      <td>10</td>\n",
              "      <td>2008</td>\n",
              "      <td>297</td>\n",
              "      <td>23</td>\n",
              "      <td>655.0</td>\n",
              "      <td>2008-10-29 00:00:00</td>\n",
              "    </tr>\n",
              "    <tr>\n",
              "      <th>4</th>\n",
              "      <td>2008-10-24</td>\n",
              "      <td>665.0</td>\n",
              "      <td>80.0</td>\n",
              "      <td>6.239</td>\n",
              "      <td>6.239</td>\n",
              "      <td>62.05</td>\n",
              "      <td>148.2</td>\n",
              "      <td>47.2</td>\n",
              "      <td>4</td>\n",
              "      <td>10</td>\n",
              "      <td>...</td>\n",
              "      <td>709.816624</td>\n",
              "      <td>709.816624</td>\n",
              "      <td>709.816624</td>\n",
              "      <td>4</td>\n",
              "      <td>10</td>\n",
              "      <td>2008</td>\n",
              "      <td>298</td>\n",
              "      <td>24</td>\n",
              "      <td>655.0</td>\n",
              "      <td>2008-10-29 00:00:00</td>\n",
              "    </tr>\n",
              "  </tbody>\n",
              "</table>\n",
              "<p>5 rows × 23 columns</p>\n",
              "</div>\n",
              "      <button class=\"colab-df-convert\" onclick=\"convertToInteractive('df-5c6336ea-b79d-424d-8fb5-016914799c14')\"\n",
              "              title=\"Convert this dataframe to an interactive table.\"\n",
              "              style=\"display:none;\">\n",
              "        \n",
              "  <svg xmlns=\"http://www.w3.org/2000/svg\" height=\"24px\"viewBox=\"0 0 24 24\"\n",
              "       width=\"24px\">\n",
              "    <path d=\"M0 0h24v24H0V0z\" fill=\"none\"/>\n",
              "    <path d=\"M18.56 5.44l.94 2.06.94-2.06 2.06-.94-2.06-.94-.94-2.06-.94 2.06-2.06.94zm-11 1L8.5 8.5l.94-2.06 2.06-.94-2.06-.94L8.5 2.5l-.94 2.06-2.06.94zm10 10l.94 2.06.94-2.06 2.06-.94-2.06-.94-.94-2.06-.94 2.06-2.06.94z\"/><path d=\"M17.41 7.96l-1.37-1.37c-.4-.4-.92-.59-1.43-.59-.52 0-1.04.2-1.43.59L10.3 9.45l-7.72 7.72c-.78.78-.78 2.05 0 2.83L4 21.41c.39.39.9.59 1.41.59.51 0 1.02-.2 1.41-.59l7.78-7.78 2.81-2.81c.8-.78.8-2.07 0-2.86zM5.41 20L4 18.59l7.72-7.72 1.47 1.35L5.41 20z\"/>\n",
              "  </svg>\n",
              "      </button>\n",
              "      \n",
              "  <style>\n",
              "    .colab-df-container {\n",
              "      display:flex;\n",
              "      flex-wrap:wrap;\n",
              "      gap: 12px;\n",
              "    }\n",
              "\n",
              "    .colab-df-convert {\n",
              "      background-color: #E8F0FE;\n",
              "      border: none;\n",
              "      border-radius: 50%;\n",
              "      cursor: pointer;\n",
              "      display: none;\n",
              "      fill: #1967D2;\n",
              "      height: 32px;\n",
              "      padding: 0 0 0 0;\n",
              "      width: 32px;\n",
              "    }\n",
              "\n",
              "    .colab-df-convert:hover {\n",
              "      background-color: #E2EBFA;\n",
              "      box-shadow: 0px 1px 2px rgba(60, 64, 67, 0.3), 0px 1px 3px 1px rgba(60, 64, 67, 0.15);\n",
              "      fill: #174EA6;\n",
              "    }\n",
              "\n",
              "    [theme=dark] .colab-df-convert {\n",
              "      background-color: #3B4455;\n",
              "      fill: #D2E3FC;\n",
              "    }\n",
              "\n",
              "    [theme=dark] .colab-df-convert:hover {\n",
              "      background-color: #434B5C;\n",
              "      box-shadow: 0px 1px 3px 1px rgba(0, 0, 0, 0.15);\n",
              "      filter: drop-shadow(0px 1px 2px rgba(0, 0, 0, 0.3));\n",
              "      fill: #FFFFFF;\n",
              "    }\n",
              "  </style>\n",
              "\n",
              "      <script>\n",
              "        const buttonEl =\n",
              "          document.querySelector('#df-5c6336ea-b79d-424d-8fb5-016914799c14 button.colab-df-convert');\n",
              "        buttonEl.style.display =\n",
              "          google.colab.kernel.accessAllowed ? 'block' : 'none';\n",
              "\n",
              "        async function convertToInteractive(key) {\n",
              "          const element = document.querySelector('#df-5c6336ea-b79d-424d-8fb5-016914799c14');\n",
              "          const dataTable =\n",
              "            await google.colab.kernel.invokeFunction('convertToInteractive',\n",
              "                                                     [key], {});\n",
              "          if (!dataTable) return;\n",
              "\n",
              "          const docLinkHtml = 'Like what you see? Visit the ' +\n",
              "            '<a target=\"_blank\" href=https://colab.research.google.com/notebooks/data_table.ipynb>data table notebook</a>'\n",
              "            + ' to learn more about interactive tables.';\n",
              "          element.innerHTML = '';\n",
              "          dataTable['output_type'] = 'display_data';\n",
              "          await google.colab.output.renderOutput(dataTable, element);\n",
              "          const docLink = document.createElement('div');\n",
              "          docLink.innerHTML = docLinkHtml;\n",
              "          element.appendChild(docLink);\n",
              "        }\n",
              "      </script>\n",
              "    </div>\n",
              "  </div>\n",
              "  "
            ]
          },
          "metadata": {},
          "execution_count": 116
        }
      ]
    },
    {
      "cell_type": "code",
      "source": [
        "df = raw_data.copy()"
      ],
      "metadata": {
        "id": "wK1KyZrPVB67"
      },
      "execution_count": null,
      "outputs": []
    },
    {
      "cell_type": "code",
      "source": [
        "# Define a function to draw time_series plot\n",
        "def timeseries (x_axis, y_axis, x_label, y_label):\n",
        "    plt.figure(figsize = (10, 6))\n",
        "    plt.plot(x_axis, y_axis, color ='black')\n",
        "    plt.xlabel(x_label, {'fontsize': 12}) \n",
        "    plt.ylabel(y_label, {'fontsize': 12})\n",
        "\n",
        "timeseries(df.Date, df['Last_Wednesday_HRC'], 'Date','Daily HRC [Workday]')"
      ],
      "metadata": {
        "colab": {
          "base_uri": "https://localhost:8080/",
          "height": 393
        },
        "id": "kSYolrtbUsPA",
        "outputId": "0e8fa87a-d00a-4bcd-bb4e-d5f0c41a2f1c"
      },
      "execution_count": null,
      "outputs": [
        {
          "output_type": "display_data",
          "data": {
            "text/plain": [
              "<Figure size 720x432 with 1 Axes>"
            ],
            "image/png": "[encoded data removed]"
          },
          "metadata": {
            "needs_background": "light"
          }
        }
      ]
    },
    {
      "cell_type": "code",
      "source": [
        "# Check missing values\n",
        "df.isnull().sum()"
      ],
      "metadata": {
        "colab": {
          "base_uri": "https://localhost:8080/"
        },
        "id": "RP-MXhyHVLPB",
        "outputId": "814133e9-aea4-4101-fc0a-370c389ae49c"
      },
      "execution_count": null,
      "outputs": [
        {
          "output_type": "execute_result",
          "data": {
            "text/plain": [
              "Date                    0\n",
              "hrc                     0\n",
              "iron                    0\n",
              "natural_gas             0\n",
              "copper                  0\n",
              "oil                     0\n",
              "us_ppi                  0\n",
              "us_ism_pmi              0\n",
              "Weekday                 0\n",
              "Month                   0\n",
              "isWednesday             0\n",
              "is_last_wednesday       0\n",
              "Daily_Variance          0\n",
              "hrc_L5                  0\n",
              "hrc_L10                 0\n",
              "hrc_L15                 0\n",
              "quarter                 0\n",
              "month                   0\n",
              "year                    0\n",
              "dayofyear               0\n",
              "dayofmonth              0\n",
              "Last_Wednesday_HRC      0\n",
              "Last_Wednesday_Date    15\n",
              "dtype: int64"
            ]
          },
          "metadata": {},
          "execution_count": 119
        }
      ]
    },
    {
      "cell_type": "code",
      "source": [
        "# Replace missing values by interpolation\n",
        "def replace_missing (attribute):\n",
        "    return attribute.interpolate(inplace=True)"
      ],
      "metadata": {
        "id": "ONAa9cBpVQIN"
      },
      "execution_count": null,
      "outputs": []
    },
    {
      "cell_type": "code",
      "source": [
        "# Smooth data\n",
        "\n",
        "# Apply the Gaussian filter to the 'value' column\n",
        "smoothed_data = gaussian_filter1d(df['hrc'].values, sigma=5)\n",
        "\n",
        "# Replace the 'value' column with the smoothed data\n",
        "df['hrc_smoothed'] = smoothed_data"
      ],
      "metadata": {
        "id": "__qpWo0rViNX"
      },
      "execution_count": null,
      "outputs": []
    },
    {
      "cell_type": "code",
      "source": [
        "# Define a function to draw time_series plot\n",
        "def timeseriesCompare (x_axis, y_axis1, y_axis2, x_label, y_label):\n",
        "    plt.figure(figsize = (10, 6))\n",
        "    plt.plot(x_axis, y_axis1, color ='black')\n",
        "    plt.plot(x_axis, y_axis2, color ='red')\n",
        "    plt.xlabel(x_label, {'fontsize': 12}) \n",
        "    plt.ylabel(y_label, {'fontsize': 12})\n",
        "\n",
        "timeseriesCompare(df.Date, df['hrc'], df['hrc_smoothed'], 'Date','Daily HRC [Workday]')"
      ],
      "metadata": {
        "colab": {
          "base_uri": "https://localhost:8080/",
          "height": 391
        },
        "id": "QS6iEcQ3VbxN",
        "outputId": "e13830b0-64f1-4372-9f7f-4a912206c489"
      },
      "execution_count": null,
      "outputs": [
        {
          "output_type": "display_data",
          "data": {
            "text/plain": [
              "<Figure size 720x432 with 1 Axes>"
            ],
            "image/png": "[encoded data removed]"
          },
          "metadata": {
            "needs_background": "light"
          }
        }
      ]
    },
    {
      "cell_type": "code",
      "source": [
        "# Replace the 'value' column with the smoothed data\n",
        "df['hrc'] = smoothed_data"
      ],
      "metadata": {
        "id": "P1NwHkvyVd95"
      },
      "execution_count": null,
      "outputs": []
    },
    {
      "cell_type": "code",
      "source": [
        "df.columns"
      ],
      "metadata": {
        "colab": {
          "base_uri": "https://localhost:8080/"
        },
        "id": "xg1DkbNbYVuK",
        "outputId": "07435cc2-5cef-401d-f7e4-f1b81d47f29d"
      },
      "execution_count": null,
      "outputs": [
        {
          "output_type": "execute_result",
          "data": {
            "text/plain": [
              "Index(['Date', 'hrc', 'iron', 'natural_gas', 'copper', 'oil', 'us_ppi',\n",
              "       'us_ism_pmi', 'Weekday', 'Month', 'isWednesday', 'is_last_wednesday',\n",
              "       'Daily_Variance', 'hrc_L5', 'hrc_L10', 'hrc_L15', 'quarter', 'month',\n",
              "       'year', 'dayofyear', 'dayofmonth', 'Last_Wednesday_HRC',\n",
              "       'Last_Wednesday_Date', 'hrc_smoothed'],\n",
              "      dtype='object')"
            ]
          },
          "metadata": {},
          "execution_count": 124
        }
      ]
    },
    {
      "cell_type": "code",
      "source": [
        "# Split train data and test data\n",
        "train_size = int(len(df)*0.95)\n",
        "train_dataset, test_dataset = df.iloc[:train_size], df.iloc[train_size: ]"
      ],
      "metadata": {
        "id": "zv0In5_FXEpL"
      },
      "execution_count": null,
      "outputs": []
    },
    {
      "cell_type": "code",
      "source": [
        "cutoff_date = list(train_dataset['Date'])[-1]"
      ],
      "metadata": {
        "id": "EQm2kGMFf_-o"
      },
      "execution_count": null,
      "outputs": []
    },
    {
      "cell_type": "code",
      "source": [
        "# Drop dates\n",
        "train_dataset = train_dataset.drop(['Date', 'Last_Wednesday_Date'], axis = 1)\n",
        "test_dataset = test_dataset.drop(['Date', 'Last_Wednesday_Date'], axis = 1)"
      ],
      "metadata": {
        "id": "bG6SMyvEYfmm"
      },
      "execution_count": null,
      "outputs": []
    },
    {
      "cell_type": "code",
      "source": [
        "# Plot train and test data\n",
        "plt.figure(figsize = (10, 6))\n",
        "plt.plot(train_dataset.Last_Wednesday_HRC)\n",
        "plt.plot(test_dataset.Last_Wednesday_HRC)\n",
        "plt.xlabel('Date')\n",
        "plt.ylabel('HRC Daily')\n",
        "plt.legend(['Train set', 'Test set'], loc='upper right')\n",
        "print('Dimension of train data: ',train_dataset.shape)\n",
        "print('Dimension of test data: ', test_dataset.shape)"
      ],
      "metadata": {
        "colab": {
          "base_uri": "https://localhost:8080/",
          "height": 427
        },
        "id": "xcl0_-4WXOUk",
        "outputId": "a9e85f1a-8464-417b-8160-0926bfed6f98"
      },
      "execution_count": null,
      "outputs": [
        {
          "output_type": "stream",
          "name": "stdout",
          "text": [
            "Dimension of train data:  (3743, 22)\n",
            "Dimension of test data:  (197, 22)\n"
          ]
        },
        {
          "output_type": "display_data",
          "data": {
            "text/plain": [
              "<Figure size 720x432 with 1 Axes>"
            ],
            "image/png": "[encoded data removed]"
          },
          "metadata": {
            "needs_background": "light"
          }
        }
      ]
    },
    {
      "cell_type": "code",
      "source": [
        "# Split train data to X and y\n",
        "X_train = train_dataset.drop('Last_Wednesday_HRC', axis = 1)\n",
        "y_train = train_dataset.loc[:,['Last_Wednesday_HRC']]\n",
        "# Split test data to X and y\n",
        "X_test = test_dataset.drop('Last_Wednesday_HRC', axis = 1)\n",
        "y_test = test_dataset.loc[:,['Last_Wednesday_HRC']]"
      ],
      "metadata": {
        "id": "qnkJLUOvXthZ"
      },
      "execution_count": null,
      "outputs": []
    },
    {
      "cell_type": "code",
      "source": [
        "# Different scaler for input and output\n",
        "scaler_x = MinMaxScaler(feature_range = (0,1))\n",
        "scaler_y = MinMaxScaler(feature_range = (0,1))\n",
        "# Fit the scaler using available training data\n",
        "input_scaler = scaler_x.fit(X_train)\n",
        "output_scaler = scaler_y.fit(y_train)\n",
        "\n",
        "# Apply the scaler to training data\n",
        "train_y_norm = output_scaler.transform(y_train)\n",
        "train_x_norm = input_scaler.transform(X_train)\n",
        "# Apply the scaler to test data\n",
        "test_y_norm = output_scaler.transform(y_test)\n",
        "test_x_norm = input_scaler.transform(X_test)"
      ],
      "metadata": {
        "id": "ji_yPEwEX__2"
      },
      "execution_count": null,
      "outputs": []
    },
    {
      "cell_type": "code",
      "source": [
        "# Create a 3D input\n",
        "def create_dataset (X, y, time_steps = 1):\n",
        "    Xs, ys = [], []\n",
        "    for i in range(len(X)-time_steps):\n",
        "        v = X[i:i+time_steps, :]\n",
        "        Xs.append(v)\n",
        "        ys.append(y[i+time_steps])\n",
        "    return np.array(Xs), np.array(ys)"
      ],
      "metadata": {
        "id": "MABmEjRhYN99"
      },
      "execution_count": null,
      "outputs": []
    },
    {
      "cell_type": "code",
      "source": [
        "TIME_STEPS = 30\n",
        "X_test, y_test = create_dataset(test_x_norm, test_y_norm,   \n",
        "                                TIME_STEPS)\n",
        "X_train, y_train = create_dataset(train_x_norm, train_y_norm, \n",
        "                                  TIME_STEPS)\n",
        "print('X_train.shape: ', X_test.shape)\n",
        "print('y_train.shape: ', y_train.shape)\n",
        "print('X_test.shape: ', X_test.shape)\n",
        "print('y_test.shape: ', y_train.shape)"
      ],
      "metadata": {
        "colab": {
          "base_uri": "https://localhost:8080/"
        },
        "id": "Q78OJEJrY07Y",
        "outputId": "88a6bf7d-764f-4b7f-bdcc-fb58f5aa17ed"
      },
      "execution_count": null,
      "outputs": [
        {
          "output_type": "stream",
          "name": "stdout",
          "text": [
            "X_train.shape:  (167, 30, 21)\n",
            "y_train.shape:  (3713, 1)\n",
            "X_test.shape:  (167, 30, 21)\n",
            "y_test.shape:  (3713, 1)\n"
          ]
        }
      ]
    },
    {
      "cell_type": "code",
      "source": [
        "# Create BiLSTM model\n",
        "def create_model_bilstm(units):\n",
        "    model = Sequential()\n",
        "    model.add(Bidirectional(LSTM(units = units,                             \n",
        "              return_sequences=True),\n",
        "              input_shape=(X_train.shape[1], X_train.shape[2])))\n",
        "    model.add(Bidirectional(LSTM(units = units)))\n",
        "    model.add(Dense(1))\n",
        "    #Compile model\n",
        "    model.compile(loss='mse', optimizer='adam')\n",
        "    return model"
      ],
      "metadata": {
        "id": "ggISUIfnY-sG"
      },
      "execution_count": null,
      "outputs": []
    },
    {
      "cell_type": "code",
      "source": [
        "# Create LSTM or GRU model\n",
        "def create_model(units, m):\n",
        "    model = Sequential()\n",
        "    model.add(m (units = units, return_sequences = True,\n",
        "                input_shape = [X_train.shape[1], X_train.shape[2]]))\n",
        "    model.add(Dropout(0.2))\n",
        "    model.add(m (units = units))\n",
        "    model.add(Dropout(0.2))\n",
        "    model.add(Dense(units = 1))\n",
        "    #Compile model\n",
        "    model.compile(loss='mse', optimizer='adam')\n",
        "    return model"
      ],
      "metadata": {
        "id": "8hH-vVYsY-n-"
      },
      "execution_count": null,
      "outputs": []
    },
    {
      "cell_type": "code",
      "source": [
        "# BiLSTM\n",
        "model_bilstm = create_model_bilstm(64)\n",
        "# GRU and LSTM\n",
        "model_gru = create_model(64, GRU)\n",
        "model_lstm = create_model(64, LSTM)"
      ],
      "metadata": {
        "id": "c4VHAMooY51x"
      },
      "execution_count": null,
      "outputs": []
    },
    {
      "cell_type": "code",
      "source": [
        "# Fit BiLSTM, LSTM and GRU\n",
        "def fit_model(model):\n",
        "    early_stop = keras.callbacks.EarlyStopping(monitor = 'val_loss',\n",
        "                                               patience = 10)\n",
        "    \n",
        "    history = model.fit(X_train, y_train, epochs = 100,  \n",
        "                        validation_split = 0.2, batch_size = 32, \n",
        "                        shuffle = False, callbacks = [early_stop])\n",
        "    return history"
      ],
      "metadata": {
        "id": "m-sA_issZLRb"
      },
      "execution_count": null,
      "outputs": []
    },
    {
      "cell_type": "code",
      "source": [
        "history_bilstm = fit_model(model_bilstm)\n",
        "history_lstm = fit_model(model_lstm)\n",
        "history_gru = fit_model(model_gru)"
      ],
      "metadata": {
        "colab": {
          "base_uri": "https://localhost:8080/"
        },
        "id": "rgmPmKqjZS5R",
        "outputId": "13a97508-9c1a-492e-e6f6-a4a5ae36813d"
      },
      "execution_count": null,
      "outputs": [
        {
          "output_type": "stream",
          "name": "stdout",
          "text": [
            "Epoch 1/100\n",
            "93/93 [==============================] - 8s 25ms/step - loss: 0.0163 - val_loss: 0.0803\n",
            "Epoch 2/100\n",
            "93/93 [==============================] - 1s 12ms/step - loss: 0.0035 - val_loss: 0.0758\n",
            "Epoch 3/100\n",
            "93/93 [==============================] - 1s 11ms/step - loss: 0.0035 - val_loss: 0.0836\n",
            "Epoch 4/100\n",
            "93/93 [==============================] - 1s 11ms/step - loss: 0.0033 - val_loss: 0.0787\n",
            "Epoch 5/100\n",
            "93/93 [==============================] - 1s 12ms/step - loss: 0.0034 - val_loss: 0.0678\n",
            "Epoch 6/100\n",
            "93/93 [==============================] - 1s 12ms/step - loss: 0.0033 - val_loss: 0.0573\n",
            "Epoch 7/100\n",
            "93/93 [==============================] - 1s 12ms/step - loss: 0.0029 - val_loss: 0.0485\n",
            "Epoch 8/100\n",
            "93/93 [==============================] - 1s 12ms/step - loss: 0.0023 - val_loss: 0.0421\n",
            "Epoch 9/100\n",
            "93/93 [==============================] - 1s 11ms/step - loss: 0.0019 - val_loss: 0.0377\n",
            "Epoch 10/100\n",
            "93/93 [==============================] - 1s 12ms/step - loss: 0.0017 - val_loss: 0.0341\n",
            "Epoch 11/100\n",
            "93/93 [==============================] - 1s 11ms/step - loss: 0.0015 - val_loss: 0.0316\n",
            "Epoch 12/100\n",
            "93/93 [==============================] - 1s 12ms/step - loss: 0.0014 - val_loss: 0.0290\n",
            "Epoch 13/100\n",
            "93/93 [==============================] - 1s 12ms/step - loss: 0.0013 - val_loss: 0.0289\n",
            "Epoch 14/100\n",
            "93/93 [==============================] - 1s 12ms/step - loss: 0.0011 - val_loss: 0.0274\n",
            "Epoch 15/100\n",
            "93/93 [==============================] - 1s 12ms/step - loss: 0.0011 - val_loss: 0.0302\n",
            "Epoch 16/100\n",
            "93/93 [==============================] - 1s 12ms/step - loss: 0.0010 - val_loss: 0.0252\n",
            "Epoch 17/100\n",
            "93/93 [==============================] - 1s 12ms/step - loss: 0.0010 - val_loss: 0.0253\n",
            "Epoch 18/100\n",
            "93/93 [==============================] - 1s 12ms/step - loss: 0.0010 - val_loss: 0.0204\n",
            "Epoch 19/100\n",
            "93/93 [==============================] - 1s 15ms/step - loss: 0.0010 - val_loss: 0.0198\n",
            "Epoch 20/100\n",
            "93/93 [==============================] - 1s 12ms/step - loss: 9.4808e-04 - val_loss: 0.0162\n",
            "Epoch 21/100\n",
            "93/93 [==============================] - 1s 12ms/step - loss: 9.9525e-04 - val_loss: 0.0159\n",
            "Epoch 22/100\n",
            "93/93 [==============================] - 1s 12ms/step - loss: 8.8042e-04 - val_loss: 0.0146\n",
            "Epoch 23/100\n",
            "93/93 [==============================] - 1s 12ms/step - loss: 9.0235e-04 - val_loss: 0.0148\n",
            "Epoch 24/100\n",
            "93/93 [==============================] - 1s 12ms/step - loss: 9.1902e-04 - val_loss: 0.0151\n",
            "Epoch 25/100\n",
            "93/93 [==============================] - 1s 11ms/step - loss: 7.5430e-04 - val_loss: 0.0136\n",
            "Epoch 26/100\n",
            "93/93 [==============================] - 1s 11ms/step - loss: 8.7780e-04 - val_loss: 0.0100\n",
            "Epoch 27/100\n",
            "93/93 [==============================] - 1s 11ms/step - loss: 8.1558e-04 - val_loss: 0.0140\n",
            "Epoch 28/100\n",
            "93/93 [==============================] - 1s 12ms/step - loss: 6.4208e-04 - val_loss: 0.0138\n",
            "Epoch 29/100\n",
            "93/93 [==============================] - 1s 12ms/step - loss: 6.6885e-04 - val_loss: 0.0156\n",
            "Epoch 30/100\n",
            "93/93 [==============================] - 1s 12ms/step - loss: 7.0840e-04 - val_loss: 0.0169\n",
            "Epoch 31/100\n",
            "93/93 [==============================] - 1s 11ms/step - loss: 6.7411e-04 - val_loss: 0.0188\n",
            "Epoch 32/100\n",
            "93/93 [==============================] - 1s 12ms/step - loss: 7.5027e-04 - val_loss: 0.0229\n",
            "Epoch 33/100\n",
            "93/93 [==============================] - 1s 12ms/step - loss: 8.1012e-04 - val_loss: 0.0299\n",
            "Epoch 34/100\n",
            "93/93 [==============================] - 1s 12ms/step - loss: 9.0622e-04 - val_loss: 0.0483\n",
            "Epoch 35/100\n",
            "93/93 [==============================] - 1s 12ms/step - loss: 0.0011 - val_loss: 0.0627\n",
            "Epoch 36/100\n",
            "93/93 [==============================] - 1s 12ms/step - loss: 8.8146e-04 - val_loss: 0.0711\n",
            "Epoch 1/100\n",
            "93/93 [==============================] - 4s 14ms/step - loss: 0.0092 - val_loss: 0.1048\n",
            "Epoch 2/100\n",
            "93/93 [==============================] - 1s 7ms/step - loss: 0.0049 - val_loss: 0.0818\n",
            "Epoch 3/100\n",
            "93/93 [==============================] - 1s 8ms/step - loss: 0.0051 - val_loss: 0.0689\n",
            "Epoch 4/100\n",
            "93/93 [==============================] - 1s 7ms/step - loss: 0.0042 - val_loss: 0.0629\n",
            "Epoch 5/100\n",
            "93/93 [==============================] - 1s 8ms/step - loss: 0.0031 - val_loss: 0.0614\n",
            "Epoch 6/100\n",
            "93/93 [==============================] - 1s 8ms/step - loss: 0.0026 - val_loss: 0.0562\n",
            "Epoch 7/100\n",
            "93/93 [==============================] - 1s 7ms/step - loss: 0.0022 - val_loss: 0.0546\n",
            "Epoch 8/100\n",
            "93/93 [==============================] - 1s 7ms/step - loss: 0.0019 - val_loss: 0.0531\n",
            "Epoch 9/100\n",
            "93/93 [==============================] - 1s 7ms/step - loss: 0.0018 - val_loss: 0.0484\n",
            "Epoch 10/100\n",
            "93/93 [==============================] - 1s 7ms/step - loss: 0.0018 - val_loss: 0.0484\n",
            "Epoch 11/100\n",
            "93/93 [==============================] - 1s 7ms/step - loss: 0.0017 - val_loss: 0.0463\n",
            "Epoch 12/100\n",
            "93/93 [==============================] - 1s 8ms/step - loss: 0.0015 - val_loss: 0.0458\n",
            "Epoch 13/100\n",
            "93/93 [==============================] - 1s 7ms/step - loss: 0.0015 - val_loss: 0.0439\n",
            "Epoch 14/100\n",
            "93/93 [==============================] - 1s 7ms/step - loss: 0.0014 - val_loss: 0.0430\n",
            "Epoch 15/100\n",
            "93/93 [==============================] - 1s 8ms/step - loss: 0.0014 - val_loss: 0.0410\n",
            "Epoch 16/100\n",
            "93/93 [==============================] - 1s 8ms/step - loss: 0.0013 - val_loss: 0.0402\n",
            "Epoch 17/100\n",
            "93/93 [==============================] - 1s 8ms/step - loss: 0.0013 - val_loss: 0.0413\n",
            "Epoch 18/100\n",
            "93/93 [==============================] - 1s 7ms/step - loss: 0.0013 - val_loss: 0.0385\n",
            "Epoch 19/100\n",
            "93/93 [==============================] - 1s 7ms/step - loss: 0.0013 - val_loss: 0.0374\n",
            "Epoch 20/100\n",
            "93/93 [==============================] - 1s 8ms/step - loss: 0.0013 - val_loss: 0.0370\n",
            "Epoch 21/100\n",
            "93/93 [==============================] - 1s 7ms/step - loss: 0.0012 - val_loss: 0.0351\n",
            "Epoch 22/100\n",
            "93/93 [==============================] - 1s 8ms/step - loss: 0.0012 - val_loss: 0.0316\n",
            "Epoch 23/100\n",
            "93/93 [==============================] - 1s 7ms/step - loss: 0.0012 - val_loss: 0.0305\n",
            "Epoch 24/100\n",
            "93/93 [==============================] - 1s 7ms/step - loss: 0.0011 - val_loss: 0.0323\n",
            "Epoch 25/100\n",
            "93/93 [==============================] - 1s 7ms/step - loss: 0.0011 - val_loss: 0.0284\n",
            "Epoch 26/100\n",
            "93/93 [==============================] - 1s 7ms/step - loss: 0.0011 - val_loss: 0.0263\n",
            "Epoch 27/100\n",
            "93/93 [==============================] - 1s 7ms/step - loss: 0.0012 - val_loss: 0.0246\n",
            "Epoch 28/100\n",
            "93/93 [==============================] - 1s 7ms/step - loss: 9.9642e-04 - val_loss: 0.0211\n",
            "Epoch 29/100\n",
            "93/93 [==============================] - 1s 8ms/step - loss: 0.0011 - val_loss: 0.0208\n",
            "Epoch 30/100\n",
            "93/93 [==============================] - 1s 7ms/step - loss: 0.0011 - val_loss: 0.0184\n",
            "Epoch 31/100\n",
            "93/93 [==============================] - 1s 7ms/step - loss: 0.0012 - val_loss: 0.0194\n",
            "Epoch 32/100\n",
            "93/93 [==============================] - 1s 8ms/step - loss: 0.0010 - val_loss: 0.0172\n",
            "Epoch 33/100\n",
            "93/93 [==============================] - 1s 8ms/step - loss: 0.0010 - val_loss: 0.0139\n",
            "Epoch 34/100\n",
            "93/93 [==============================] - 1s 7ms/step - loss: 0.0010 - val_loss: 0.0128\n",
            "Epoch 35/100\n",
            "93/93 [==============================] - 1s 8ms/step - loss: 0.0011 - val_loss: 0.0126\n",
            "Epoch 36/100\n",
            "93/93 [==============================] - 1s 8ms/step - loss: 0.0011 - val_loss: 0.0137\n",
            "Epoch 37/100\n",
            "93/93 [==============================] - 1s 7ms/step - loss: 0.0010 - val_loss: 0.0139\n",
            "Epoch 38/100\n",
            "93/93 [==============================] - 1s 7ms/step - loss: 9.7491e-04 - val_loss: 0.0133\n",
            "Epoch 39/100\n",
            "93/93 [==============================] - 1s 7ms/step - loss: 0.0010 - val_loss: 0.0115\n",
            "Epoch 40/100\n",
            "93/93 [==============================] - 1s 8ms/step - loss: 9.4974e-04 - val_loss: 0.0112\n",
            "Epoch 41/100\n",
            "93/93 [==============================] - 1s 8ms/step - loss: 9.6917e-04 - val_loss: 0.0120\n",
            "Epoch 42/100\n",
            "93/93 [==============================] - 1s 7ms/step - loss: 9.2563e-04 - val_loss: 0.0105\n",
            "Epoch 43/100\n",
            "93/93 [==============================] - 1s 7ms/step - loss: 9.3650e-04 - val_loss: 0.0107\n",
            "Epoch 44/100\n",
            "93/93 [==============================] - 1s 8ms/step - loss: 8.3154e-04 - val_loss: 0.0110\n",
            "Epoch 45/100\n",
            "93/93 [==============================] - 1s 8ms/step - loss: 9.3382e-04 - val_loss: 0.0108\n",
            "Epoch 46/100\n",
            "93/93 [==============================] - 1s 7ms/step - loss: 7.4729e-04 - val_loss: 0.0110\n",
            "Epoch 47/100\n",
            "93/93 [==============================] - 1s 7ms/step - loss: 8.7207e-04 - val_loss: 0.0108\n",
            "Epoch 48/100\n",
            "93/93 [==============================] - 1s 7ms/step - loss: 7.8003e-04 - val_loss: 0.0112\n",
            "Epoch 49/100\n",
            "93/93 [==============================] - 1s 7ms/step - loss: 7.8987e-04 - val_loss: 0.0107\n",
            "Epoch 50/100\n",
            "93/93 [==============================] - 1s 8ms/step - loss: 0.0012 - val_loss: 0.0139\n",
            "Epoch 51/100\n",
            "93/93 [==============================] - 1s 8ms/step - loss: 0.0011 - val_loss: 0.0125\n",
            "Epoch 52/100\n",
            "93/93 [==============================] - 1s 7ms/step - loss: 7.5735e-04 - val_loss: 0.0115\n",
            "Epoch 1/100\n",
            "93/93 [==============================] - 4s 14ms/step - loss: 0.0113 - val_loss: 0.0996\n",
            "Epoch 2/100\n",
            "93/93 [==============================] - 1s 7ms/step - loss: 0.0053 - val_loss: 0.0628\n",
            "Epoch 3/100\n",
            "93/93 [==============================] - 1s 7ms/step - loss: 0.0040 - val_loss: 0.0706\n",
            "Epoch 4/100\n",
            "93/93 [==============================] - 1s 7ms/step - loss: 0.0036 - val_loss: 0.0676\n",
            "Epoch 5/100\n",
            "93/93 [==============================] - 1s 7ms/step - loss: 0.0040 - val_loss: 0.0609\n",
            "Epoch 6/100\n",
            "93/93 [==============================] - 1s 7ms/step - loss: 0.0040 - val_loss: 0.0584\n",
            "Epoch 7/100\n",
            "93/93 [==============================] - 1s 7ms/step - loss: 0.0037 - val_loss: 0.0455\n",
            "Epoch 8/100\n",
            "93/93 [==============================] - 1s 6ms/step - loss: 0.0035 - val_loss: 0.0407\n",
            "Epoch 9/100\n",
            "93/93 [==============================] - 1s 6ms/step - loss: 0.0026 - val_loss: 0.0348\n",
            "Epoch 10/100\n",
            "93/93 [==============================] - 1s 7ms/step - loss: 0.0023 - val_loss: 0.0338\n",
            "Epoch 11/100\n",
            "93/93 [==============================] - 1s 7ms/step - loss: 0.0020 - val_loss: 0.0285\n",
            "Epoch 12/100\n",
            "93/93 [==============================] - 1s 8ms/step - loss: 0.0017 - val_loss: 0.0292\n",
            "Epoch 13/100\n",
            "93/93 [==============================] - 1s 7ms/step - loss: 0.0017 - val_loss: 0.0279\n",
            "Epoch 14/100\n",
            "93/93 [==============================] - 1s 6ms/step - loss: 0.0015 - val_loss: 0.0278\n",
            "Epoch 15/100\n",
            "93/93 [==============================] - 1s 7ms/step - loss: 0.0015 - val_loss: 0.0262\n",
            "Epoch 16/100\n",
            "93/93 [==============================] - 1s 7ms/step - loss: 0.0015 - val_loss: 0.0251\n",
            "Epoch 17/100\n",
            "93/93 [==============================] - 1s 7ms/step - loss: 0.0014 - val_loss: 0.0289\n",
            "Epoch 18/100\n",
            "93/93 [==============================] - 1s 7ms/step - loss: 0.0014 - val_loss: 0.0245\n",
            "Epoch 19/100\n",
            "93/93 [==============================] - 1s 7ms/step - loss: 0.0014 - val_loss: 0.0268\n",
            "Epoch 20/100\n",
            "93/93 [==============================] - 1s 7ms/step - loss: 0.0013 - val_loss: 0.0246\n",
            "Epoch 21/100\n",
            "93/93 [==============================] - 1s 7ms/step - loss: 0.0013 - val_loss: 0.0248\n",
            "Epoch 22/100\n",
            "93/93 [==============================] - 1s 7ms/step - loss: 0.0013 - val_loss: 0.0277\n",
            "Epoch 23/100\n",
            "93/93 [==============================] - 1s 7ms/step - loss: 0.0013 - val_loss: 0.0241\n",
            "Epoch 24/100\n",
            "93/93 [==============================] - 1s 7ms/step - loss: 0.0013 - val_loss: 0.0297\n",
            "Epoch 25/100\n",
            "93/93 [==============================] - 1s 8ms/step - loss: 0.0012 - val_loss: 0.0256\n",
            "Epoch 26/100\n",
            "93/93 [==============================] - 1s 8ms/step - loss: 0.0012 - val_loss: 0.0292\n",
            "Epoch 27/100\n",
            "93/93 [==============================] - 1s 7ms/step - loss: 0.0013 - val_loss: 0.0302\n",
            "Epoch 28/100\n",
            "93/93 [==============================] - 1s 7ms/step - loss: 0.0012 - val_loss: 0.0264\n",
            "Epoch 29/100\n",
            "93/93 [==============================] - 1s 7ms/step - loss: 0.0011 - val_loss: 0.0274\n",
            "Epoch 30/100\n",
            "93/93 [==============================] - 1s 7ms/step - loss: 0.0011 - val_loss: 0.0252\n",
            "Epoch 31/100\n",
            "93/93 [==============================] - 1s 7ms/step - loss: 0.0011 - val_loss: 0.0262\n",
            "Epoch 32/100\n",
            "93/93 [==============================] - 1s 7ms/step - loss: 0.0011 - val_loss: 0.0270\n",
            "Epoch 33/100\n",
            "93/93 [==============================] - 1s 7ms/step - loss: 0.0011 - val_loss: 0.0239\n",
            "Epoch 34/100\n",
            "93/93 [==============================] - 1s 8ms/step - loss: 0.0011 - val_loss: 0.0268\n",
            "Epoch 35/100\n",
            "93/93 [==============================] - 1s 7ms/step - loss: 0.0010 - val_loss: 0.0261\n",
            "Epoch 36/100\n",
            "93/93 [==============================] - 1s 8ms/step - loss: 0.0011 - val_loss: 0.0262\n",
            "Epoch 37/100\n",
            "93/93 [==============================] - 1s 7ms/step - loss: 0.0010 - val_loss: 0.0258\n",
            "Epoch 38/100\n",
            "93/93 [==============================] - 1s 7ms/step - loss: 0.0011 - val_loss: 0.0284\n",
            "Epoch 39/100\n",
            "93/93 [==============================] - 1s 7ms/step - loss: 0.0010 - val_loss: 0.0335\n",
            "Epoch 40/100\n",
            "93/93 [==============================] - 1s 7ms/step - loss: 0.0011 - val_loss: 0.0291\n",
            "Epoch 41/100\n",
            "93/93 [==============================] - 1s 7ms/step - loss: 0.0010 - val_loss: 0.0310\n",
            "Epoch 42/100\n",
            "93/93 [==============================] - 1s 8ms/step - loss: 0.0011 - val_loss: 0.0321\n",
            "Epoch 43/100\n",
            "93/93 [==============================] - 1s 7ms/step - loss: 9.7240e-04 - val_loss: 0.0348\n"
          ]
        }
      ]
    },
    {
      "cell_type": "code",
      "source": [
        "# Plot train loss and validation loss\n",
        "def plot_loss (history):\n",
        "    plt.figure(figsize = (10, 6))\n",
        "    plt.plot(history.history['loss'])\n",
        "    plt.plot(history.history['val_loss'])\n",
        "    plt.ylabel('Loss')\n",
        "    plt.xlabel('epoch')\n",
        "    plt.legend(['Train loss', 'Validation loss'], loc='upper right')\n",
        "    \n",
        "plot_loss (history_bilstm)\n",
        "plot_loss (history_lstm)\n",
        "plot_loss (history_gru)"
      ],
      "metadata": {
        "colab": {
          "base_uri": "https://localhost:8080/",
          "height": 1000
        },
        "id": "_P3n_IEyaBq3",
        "outputId": "4869af1d-a479-4400-9359-1b96a449414c"
      },
      "execution_count": null,
      "outputs": [
        {
          "output_type": "display_data",
          "data": {
            "text/plain": [
              "<Figure size 720x432 with 1 Axes>"
            ],
            "image/png": "[encoded data removed]"
          },
          "metadata": {
            "needs_background": "light"
          }
        },
        {
          "output_type": "display_data",
          "data": {
            "text/plain": [
              "<Figure size 720x432 with 1 Axes>"
            ],
            "image/png": "[encoded data removed]"
          },
          "metadata": {
            "needs_background": "light"
          }
        },
        {
          "output_type": "display_data",
          "data": {
            "text/plain": [
              "<Figure size 720x432 with 1 Axes>"
            ],
            "image/png": "[encoded data removed]"
          },
          "metadata": {
            "needs_background": "light"
          }
        }
      ]
    },
    {
      "cell_type": "code",
      "source": [
        "y_test = scaler_y.inverse_transform(y_test)\n",
        "y_train = scaler_y.inverse_transform(y_train)"
      ],
      "metadata": {
        "id": "peyFkyCfaNoL"
      },
      "execution_count": null,
      "outputs": []
    },
    {
      "cell_type": "code",
      "source": [
        "import plotly.graph_objects as go\n",
        "from plotly.subplots import make_subplots\n",
        "\n",
        "# Make prediction\n",
        "def prediction(model):\n",
        "    prediction = model.predict(X_test)\n",
        "    prediction = scaler_y.inverse_transform(prediction)\n",
        "    return prediction\n",
        "prediction_bilstm = prediction(model_bilstm)\n",
        "prediction_lstm = prediction(model_lstm)\n",
        "prediction_gru = prediction(model_gru)"
      ],
      "metadata": {
        "colab": {
          "base_uri": "https://localhost:8080/"
        },
        "id": "1NmQvmwzdFye",
        "outputId": "825ff922-abb7-4d75-dde6-cd4d267a105a"
      },
      "execution_count": null,
      "outputs": [
        {
          "output_type": "stream",
          "name": "stdout",
          "text": [
            "6/6 [==============================] - 1s 7ms/step\n",
            "6/6 [==============================] - 1s 4ms/step\n",
            "6/6 [==============================] - 1s 3ms/step\n"
          ]
        }
      ]
    },
    {
      "cell_type": "code",
      "source": [
        "len(prediction_lstm)\n"
      ],
      "metadata": {
        "colab": {
          "base_uri": "https://localhost:8080/"
        },
        "id": "VW1PJR38eDl1",
        "outputId": "16daf89c-a8c1-40fd-d57a-f2d490db5a35"
      },
      "execution_count": null,
      "outputs": [
        {
          "output_type": "execute_result",
          "data": {
            "text/plain": [
              "167"
            ]
          },
          "metadata": {},
          "execution_count": 141
        }
      ]
    },
    {
      "cell_type": "code",
      "source": [
        "results = pd.DataFrame(prediction_bilstm, columns=['prediction_bilstm'])\n",
        "results['prediction_lstm'] = prediction_lstm\n",
        "results['prediction_gru'] = prediction_gru\n",
        "results['Date'] = np.array(df['Date'][train_size + TIME_STEPS: ])\n",
        "results['Last_Wednesday_HRC'] = np.array(df['Last_Wednesday_HRC'][train_size + TIME_STEPS: ])"
      ],
      "metadata": {
        "id": "IjJTIujidHqf"
      },
      "execution_count": null,
      "outputs": []
    },
    {
      "cell_type": "code",
      "source": [
        "results"
      ],
      "metadata": {
        "colab": {
          "base_uri": "https://localhost:8080/",
          "height": 423
        },
        "id": "ZmmS5RZVdqjR",
        "outputId": "f66910ab-d543-43f3-858d-f1fd4eb92afe"
      },
      "execution_count": null,
      "outputs": [
        {
          "output_type": "execute_result",
          "data": {
            "text/plain": [
              "     prediction_bilstm  prediction_lstm  prediction_gru       Date  \\\n",
              "0           952.366211      1344.222412     1053.747803 2022-03-29   \n",
              "1           969.651062      1354.164062     1062.171509 2022-03-30   \n",
              "2           949.915833      1355.207520     1054.709717 2022-03-31   \n",
              "3           962.151367      1352.493286     1063.182739 2022-04-01   \n",
              "4           974.527832      1364.497681     1071.257324 2022-04-04   \n",
              "..                 ...              ...             ...        ...   \n",
              "162         648.788330       698.723999      655.865479 2022-11-07   \n",
              "163         645.209473       696.423401      649.018127 2022-11-08   \n",
              "164         647.941467       698.263916      652.680298 2022-11-09   \n",
              "165         642.030334       693.028992      649.920166 2022-11-10   \n",
              "166         637.331848       691.385803      646.195679 2022-11-11   \n",
              "\n",
              "     Last_Wednesday_HRC  \n",
              "0                1535.0  \n",
              "1                1370.0  \n",
              "2                1370.0  \n",
              "3                1370.0  \n",
              "4                1370.0  \n",
              "..                  ...  \n",
              "162               700.0  \n",
              "163               700.0  \n",
              "164               700.0  \n",
              "165               700.0  \n",
              "166               700.0  \n",
              "\n",
              "[167 rows x 5 columns]"
            ],
            "text/html": [
              "\n",
              "  <div id=\"df-dc5c1070-532a-4807-a810-3896f9e17d02\">\n",
              "    <div class=\"colab-df-container\">\n",
              "      <div>\n",
              "<style scoped>\n",
              "    .dataframe tbody tr th:only-of-type {\n",
              "        vertical-align: middle;\n",
              "    }\n",
              "\n",
              "    .dataframe tbody tr th {\n",
              "        vertical-align: top;\n",
              "    }\n",
              "\n",
              "    .dataframe thead th {\n",
              "        text-align: right;\n",
              "    }\n",
              "</style>\n",
              "<table border=\"1\" class=\"dataframe\">\n",
              "  <thead>\n",
              "    <tr style=\"text-align: right;\">\n",
              "      <th></th>\n",
              "      <th>prediction_bilstm</th>\n",
              "      <th>prediction_lstm</th>\n",
              "      <th>prediction_gru</th>\n",
              "      <th>Date</th>\n",
              "      <th>Last_Wednesday_HRC</th>\n",
              "    </tr>\n",
              "  </thead>\n",
              "  <tbody>\n",
              "    <tr>\n",
              "      <th>0</th>\n",
              "      <td>952.366211</td>\n",
              "      <td>1344.222412</td>\n",
              "      <td>1053.747803</td>\n",
              "      <td>2022-03-29</td>\n",
              "      <td>1535.0</td>\n",
              "    </tr>\n",
              "    <tr>\n",
              "      <th>1</th>\n",
              "      <td>969.651062</td>\n",
              "      <td>1354.164062</td>\n",
              "      <td>1062.171509</td>\n",
              "      <td>2022-03-30</td>\n",
              "      <td>1370.0</td>\n",
              "    </tr>\n",
              "    <tr>\n",
              "      <th>2</th>\n",
              "      <td>949.915833</td>\n",
              "      <td>1355.207520</td>\n",
              "      <td>1054.709717</td>\n",
              "      <td>2022-03-31</td>\n",
              "      <td>1370.0</td>\n",
              "    </tr>\n",
              "    <tr>\n",
              "      <th>3</th>\n",
              "      <td>962.151367</td>\n",
              "      <td>1352.493286</td>\n",
              "      <td>1063.182739</td>\n",
              "      <td>2022-04-01</td>\n",
              "      <td>1370.0</td>\n",
              "    </tr>\n",
              "    <tr>\n",
              "      <th>4</th>\n",
              "      <td>974.527832</td>\n",
              "      <td>1364.497681</td>\n",
              "      <td>1071.257324</td>\n",
              "      <td>2022-04-04</td>\n",
              "      <td>1370.0</td>\n",
              "    </tr>\n",
              "    <tr>\n",
              "      <th>...</th>\n",
              "      <td>...</td>\n",
              "      <td>...</td>\n",
              "      <td>...</td>\n",
              "      <td>...</td>\n",
              "      <td>...</td>\n",
              "    </tr>\n",
              "    <tr>\n",
              "      <th>162</th>\n",
              "      <td>648.788330</td>\n",
              "      <td>698.723999</td>\n",
              "      <td>655.865479</td>\n",
              "      <td>2022-11-07</td>\n",
              "      <td>700.0</td>\n",
              "    </tr>\n",
              "    <tr>\n",
              "      <th>163</th>\n",
              "      <td>645.209473</td>\n",
              "      <td>696.423401</td>\n",
              "      <td>649.018127</td>\n",
              "      <td>2022-11-08</td>\n",
              "      <td>700.0</td>\n",
              "    </tr>\n",
              "    <tr>\n",
              "      <th>164</th>\n",
              "      <td>647.941467</td>\n",
              "      <td>698.263916</td>\n",
              "      <td>652.680298</td>\n",
              "      <td>2022-11-09</td>\n",
              "      <td>700.0</td>\n",
              "    </tr>\n",
              "    <tr>\n",
              "      <th>165</th>\n",
              "      <td>642.030334</td>\n",
              "      <td>693.028992</td>\n",
              "      <td>649.920166</td>\n",
              "      <td>2022-11-10</td>\n",
              "      <td>700.0</td>\n",
              "    </tr>\n",
              "    <tr>\n",
              "      <th>166</th>\n",
              "      <td>637.331848</td>\n",
              "      <td>691.385803</td>\n",
              "      <td>646.195679</td>\n",
              "      <td>2022-11-11</td>\n",
              "      <td>700.0</td>\n",
              "    </tr>\n",
              "  </tbody>\n",
              "</table>\n",
              "<p>167 rows × 5 columns</p>\n",
              "</div>\n",
              "      <button class=\"colab-df-convert\" onclick=\"convertToInteractive('df-dc5c1070-532a-4807-a810-3896f9e17d02')\"\n",
              "              title=\"Convert this dataframe to an interactive table.\"\n",
              "              style=\"display:none;\">\n",
              "        \n",
              "  <svg xmlns=\"http://www.w3.org/2000/svg\" height=\"24px\"viewBox=\"0 0 24 24\"\n",
              "       width=\"24px\">\n",
              "    <path d=\"M0 0h24v24H0V0z\" fill=\"none\"/>\n",
              "    <path d=\"M18.56 5.44l.94 2.06.94-2.06 2.06-.94-2.06-.94-.94-2.06-.94 2.06-2.06.94zm-11 1L8.5 8.5l.94-2.06 2.06-.94-2.06-.94L8.5 2.5l-.94 2.06-2.06.94zm10 10l.94 2.06.94-2.06 2.06-.94-2.06-.94-.94-2.06-.94 2.06-2.06.94z\"/><path d=\"M17.41 7.96l-1.37-1.37c-.4-.4-.92-.59-1.43-.59-.52 0-1.04.2-1.43.59L10.3 9.45l-7.72 7.72c-.78.78-.78 2.05 0 2.83L4 21.41c.39.39.9.59 1.41.59.51 0 1.02-.2 1.41-.59l7.78-7.78 2.81-2.81c.8-.78.8-2.07 0-2.86zM5.41 20L4 18.59l7.72-7.72 1.47 1.35L5.41 20z\"/>\n",
              "  </svg>\n",
              "      </button>\n",
              "      \n",
              "  <style>\n",
              "    .colab-df-container {\n",
              "      display:flex;\n",
              "      flex-wrap:wrap;\n",
              "      gap: 12px;\n",
              "    }\n",
              "\n",
              "    .colab-df-convert {\n",
              "      background-color: #E8F0FE;\n",
              "      border: none;\n",
              "      border-radius: 50%;\n",
              "      cursor: pointer;\n",
              "      display: none;\n",
              "      fill: #1967D2;\n",
              "      height: 32px;\n",
              "      padding: 0 0 0 0;\n",
              "      width: 32px;\n",
              "    }\n",
              "\n",
              "    .colab-df-convert:hover {\n",
              "      background-color: #E2EBFA;\n",
              "      box-shadow: 0px 1px 2px rgba(60, 64, 67, 0.3), 0px 1px 3px 1px rgba(60, 64, 67, 0.15);\n",
              "      fill: #174EA6;\n",
              "    }\n",
              "\n",
              "    [theme=dark] .colab-df-convert {\n",
              "      background-color: #3B4455;\n",
              "      fill: #D2E3FC;\n",
              "    }\n",
              "\n",
              "    [theme=dark] .colab-df-convert:hover {\n",
              "      background-color: #434B5C;\n",
              "      box-shadow: 0px 1px 3px 1px rgba(0, 0, 0, 0.15);\n",
              "      filter: drop-shadow(0px 1px 2px rgba(0, 0, 0, 0.3));\n",
              "      fill: #FFFFFF;\n",
              "    }\n",
              "  </style>\n",
              "\n",
              "      <script>\n",
              "        const buttonEl =\n",
              "          document.querySelector('#df-dc5c1070-532a-4807-a810-3896f9e17d02 button.colab-df-convert');\n",
              "        buttonEl.style.display =\n",
              "          google.colab.kernel.accessAllowed ? 'block' : 'none';\n",
              "\n",
              "        async function convertToInteractive(key) {\n",
              "          const element = document.querySelector('#df-dc5c1070-532a-4807-a810-3896f9e17d02');\n",
              "          const dataTable =\n",
              "            await google.colab.kernel.invokeFunction('convertToInteractive',\n",
              "                                                     [key], {});\n",
              "          if (!dataTable) return;\n",
              "\n",
              "          const docLinkHtml = 'Like what you see? Visit the ' +\n",
              "            '<a target=\"_blank\" href=https://colab.research.google.com/notebooks/data_table.ipynb>data table notebook</a>'\n",
              "            + ' to learn more about interactive tables.';\n",
              "          element.innerHTML = '';\n",
              "          dataTable['output_type'] = 'display_data';\n",
              "          await google.colab.output.renderOutput(dataTable, element);\n",
              "          const docLink = document.createElement('div');\n",
              "          docLink.innerHTML = docLinkHtml;\n",
              "          element.appendChild(docLink);\n",
              "        }\n",
              "      </script>\n",
              "    </div>\n",
              "  </div>\n",
              "  "
            ]
          },
          "metadata": {},
          "execution_count": 143
        }
      ]
    },
    {
      "cell_type": "code",
      "source": [
        "def plot_future():\n",
        "  # Create figure with secondary y-axis\n",
        "  fig = make_subplots(specs=[[{\"secondary_y\": True}]])\n",
        "\n",
        "  last_wed_df = df[df['is_last_wednesday'] == 1]\n",
        "\n",
        "  # Create figure with secondary y-axis\n",
        "  fig = make_subplots(specs=[[{\"secondary_y\": True}]])\n",
        "\n",
        "  # Add traces\n",
        "  fig.add_trace(\n",
        "      go.Scatter(x=last_wed_df.Date, y=last_wed_df['hrc'], name=\"HRC at last wednesday\", mode=\"lines+markers\", \n",
        "                marker=dict(\n",
        "                  symbol=\"circle\",\n",
        "                  size=8,\n",
        "              )),\n",
        "      secondary_y=False,\n",
        "  )\n",
        "\n",
        "  fig.add_trace(\n",
        "    go.Scatter(x=results.Date, y=results.prediction_bilstm, name=\"Daily prediction_bilstm HRC at last wednesday\"),\n",
        "      secondary_y=False,\n",
        "  )\n",
        "\n",
        "  fig.add_trace(\n",
        "    go.Scatter(x=results.Date, y=results.prediction_lstm, name=\"Daily prediction_lstm HRC at last wednesday\"),\n",
        "      secondary_y=False,\n",
        "  )\n",
        "\n",
        "  fig.add_trace(\n",
        "    go.Scatter(x=results.Date, y=results.prediction_gru, name=\"Daily prediction_gru HRC at last wednesday\"),\n",
        "      secondary_y=False,\n",
        "  )\n",
        "\n",
        "  # Add figure title\n",
        "  fig.update_layout(\n",
        "      title_text=\"Daily prediction of last wednesday of the month\"\n",
        "  )\n",
        "\n",
        "  # Set x-axis title\n",
        "  fig.update_xaxes(title_text=\"Date\")\n",
        "\n",
        "  # Set y-axes titles\n",
        "  fig.update_yaxes(title_text=\"<b>Original</b> [Rands]\", secondary_y=False)\n",
        "  fig.update_yaxes(title_text=\"<b>Absolute Error %</b>\", secondary_y=True)\n",
        "\n",
        "  fig.add_vline(x=cutoff_date)\n",
        "\n",
        "  fig.show()\n",
        "\n",
        "plot_future()"
      ],
      "metadata": {
        "colab": {
          "base_uri": "https://localhost:8080/",
          "height": 542
        },
        "id": "salnRLc4cAV-",
        "outputId": "5e70e5c7-03d1-41cb-fb34-89c93342fb45"
      },
      "execution_count": null,
      "outputs": [
        {
          "output_type": "display_data",
          "data": {
            "text/html": [
              "<html>\n",
              "<head><meta charset=\"utf-8\" /></head>\n",
              "<body>\n",
              "    <div>            <script src=\"https://cdnjs.cloudflare.com/ajax/libs/mathjax/2.7.5/MathJax.js?config=TeX-AMS-MML_SVG\"></script><script type=\"text/javascript\">if (window.MathJax) {MathJax.Hub.Config({SVG: {font: \"STIX-Web\"}});}</script>                <script type=\"text/javascript\">window.PlotlyConfig = {MathJaxConfig: 'local'};</script>\n",
              "        <script src=\"https://cdn.plot.ly/plotly-2.8.3.min.js\"></script>                <div id=\"00a1c960-7c83-4d94-8355-27088cc7e538\" class=\"plotly-graph-div\" style=\"height:525px; width:100%;\"></div>            <script type=\"text/javascript\">                                    window.PLOTLYENV=window.PLOTLYENV || {};                                    if (document.getElementById(\"00a1c960-7c83-4d94-8355-27088cc7e538\")) {                    Plotly.newPlot(                        \"00a1c960-7c83-4d94-8355-27088cc7e538\",                        [{\"marker\":{\"size\":8,\"symbol\":\"circle\"},\"mode\":\"lines+markers\",\"name\":\"HRC at last wednesday\",\"x\":[\"2008-10-29T00:00:00\",\"2008-11-26T00:00:00\",\"2008-12-24T00:00:00\",\"2009-01-28T00:00:00\",\"2009-02-25T00:00:00\",\"2009-03-25T00:00:00\",\"2009-04-29T00:00:00\",\"2009-05-27T00:00:00\",\"2009-06-24T00:00:00\",\"2009-07-29T00:00:00\",\"2009-08-26T00:00:00\",\"2009-09-23T00:00:00\",\"2009-10-28T00:00:00\",\"2009-11-25T00:00:00\",\"2009-12-30T00:00:00\",\"2010-01-27T00:00:00\",\"2010-02-24T00:00:00\",\"2010-03-24T00:00:00\",\"2010-04-28T00:00:00\",\"2010-05-26T00:00:00\",\"2010-06-23T00:00:00\",\"2010-07-28T00:00:00\",\"2010-08-25T00:00:00\",\"2010-09-29T00:00:00\",\"2010-10-27T00:00:00\",\"2010-11-24T00:00:00\",\"2010-12-29T00:00:00\",\"2011-01-26T00:00:00\",\"2011-02-23T00:00:00\",\"2011-03-30T00:00:00\",\"2011-04-27T00:00:00\",\"2011-05-25T00:00:00\",\"2011-06-29T00:00:00\",\"2011-07-27T00:00:00\",\"2011-08-24T00:00:00\",\"2011-09-28T00:00:00\",\"2011-10-26T00:00:00\",\"2011-11-23T00:00:00\",\"2011-12-28T00:00:00\",\"2012-01-25T00:00:00\",\"2012-02-22T00:00:00\",\"2012-03-28T00:00:00\",\"2012-04-25T00:00:00\",\"2012-05-30T00:00:00\",\"2012-06-27T00:00:00\",\"2012-07-25T00:00:00\",\"2012-08-29T00:00:00\",\"2012-09-26T00:00:00\",\"2012-10-24T00:00:00\",\"2012-11-28T00:00:00\",\"2012-12-26T00:00:00\",\"2013-01-30T00:00:00\",\"2013-02-27T00:00:00\",\"2013-03-27T00:00:00\",\"2013-04-24T00:00:00\",\"2013-05-29T00:00:00\",\"2013-06-26T00:00:00\",\"2013-07-24T00:00:00\",\"2013-08-28T00:00:00\",\"2013-09-25T00:00:00\",\"2013-10-30T00:00:00\",\"2013-11-27T00:00:00\",\"2013-12-25T00:00:00\",\"2014-01-29T00:00:00\",\"2014-02-26T00:00:00\",\"2014-03-26T00:00:00\",\"2014-04-23T00:00:00\",\"2014-05-28T00:00:00\",\"2014-06-25T00:00:00\",\"2014-07-30T00:00:00\",\"2014-08-27T00:00:00\",\"2014-09-24T00:00:00\",\"2014-10-29T00:00:00\",\"2014-11-26T00:00:00\",\"2014-12-24T00:00:00\",\"2015-01-28T00:00:00\",\"2015-02-25T00:00:00\",\"2015-03-25T00:00:00\",\"2015-04-29T00:00:00\",\"2015-05-27T00:00:00\",\"2015-06-24T00:00:00\",\"2015-07-29T00:00:00\",\"2015-08-26T00:00:00\",\"2015-09-23T00:00:00\",\"2015-10-28T00:00:00\",\"2015-11-25T00:00:00\",\"2015-12-30T00:00:00\",\"2016-01-27T00:00:00\",\"2016-02-24T00:00:00\",\"2016-03-30T00:00:00\",\"2016-04-27T00:00:00\",\"2016-05-25T00:00:00\",\"2016-06-29T00:00:00\",\"2016-07-27T00:00:00\",\"2016-08-24T00:00:00\",\"2016-09-28T00:00:00\",\"2016-10-26T00:00:00\",\"2016-11-23T00:00:00\",\"2016-12-28T00:00:00\",\"2017-01-25T00:00:00\",\"2017-02-22T00:00:00\",\"2017-03-29T00:00:00\",\"2017-04-26T00:00:00\",\"2017-05-24T00:00:00\",\"2017-06-28T00:00:00\",\"2017-07-26T00:00:00\",\"2017-08-30T00:00:00\",\"2017-09-27T00:00:00\",\"2017-10-25T00:00:00\",\"2017-11-29T00:00:00\",\"2017-12-27T00:00:00\",\"2018-01-24T00:00:00\",\"2018-02-21T00:00:00\",\"2018-03-28T00:00:00\",\"2018-04-25T00:00:00\",\"2018-05-30T00:00:00\",\"2018-06-27T00:00:00\",\"2018-07-25T00:00:00\",\"2018-08-29T00:00:00\",\"2018-09-26T00:00:00\",\"2018-10-24T00:00:00\",\"2018-11-28T00:00:00\",\"2018-12-26T00:00:00\",\"2019-01-30T00:00:00\",\"2019-02-27T00:00:00\",\"2019-03-27T00:00:00\",\"2019-04-24T00:00:00\",\"2019-05-29T00:00:00\",\"2019-06-26T00:00:00\",\"2019-07-24T00:00:00\",\"2019-08-28T00:00:00\",\"2019-09-25T00:00:00\",\"2019-10-30T00:00:00\",\"2019-11-27T00:00:00\",\"2019-12-25T00:00:00\",\"2020-01-29T00:00:00\",\"2020-02-26T00:00:00\",\"2020-03-25T00:00:00\",\"2020-04-29T00:00:00\",\"2020-05-27T00:00:00\",\"2020-06-24T00:00:00\",\"2020-07-29T00:00:00\",\"2020-08-26T00:00:00\",\"2020-09-23T00:00:00\",\"2020-10-28T00:00:00\",\"2020-11-25T00:00:00\",\"2020-12-30T00:00:00\",\"2021-01-27T00:00:00\",\"2021-02-24T00:00:00\",\"2021-03-24T00:00:00\",\"2021-04-28T00:00:00\",\"2021-05-26T00:00:00\",\"2021-06-23T00:00:00\",\"2021-07-28T00:00:00\",\"2021-08-25T00:00:00\",\"2021-09-29T00:00:00\",\"2021-10-27T00:00:00\",\"2021-11-24T00:00:00\",\"2021-12-29T00:00:00\",\"2022-01-26T00:00:00\",\"2022-02-23T00:00:00\",\"2022-03-30T00:00:00\",\"2022-04-27T00:00:00\",\"2022-05-25T00:00:00\",\"2022-06-29T00:00:00\",\"2022-07-27T00:00:00\",\"2022-08-24T00:00:00\",\"2022-09-28T00:00:00\",\"2022-10-26T00:00:00\"],\"y\":[645.7915517557282,610.9405581348973,526.6279667948477,523.3431568287201,498.22928950818186,462.25225129395403,416.40484763066047,396.25008097175,409.4840970512728,471.1900427904072,518.5773362515658,541.398646389536,540.8715958751773,515.4964849351869,531.7891804542764,574.8382334728751,616.7352591055435,648.3827137801898,689.0619274005821,676.629057819004,649.9897563588994,587.7756874531105,581.8363604247463,584.2835206271138,557.6183599223083,550.9931708936165,654.3674888170036,755.4622504931449,832.8258613435094,871.7971334802287,816.4099354549884,777.2673269104386,735.3163606904395,692.6133625834411,669.089128434847,683.238768981592,647.1905067910266,638.6464116649369,710.3538773956078,723.784995359885,721.0191282495371,692.7568468602116,675.7618008522435,646.0791203079024,611.2873447642953,620.5300218338541,642.2278042405292,617.2955683468228,596.4690141171164,635.0029646311727,646.0571147148601,627.7582677405392,612.2174325679032,611.2527399299304,596.2492505470982,583.5474702255369,615.0376100814011,636.7451353389617,646.2370210422255,638.6487818473956,656.4334387807645,671.9079313984636,673.1521695400987,664.6076239633078,640.4135247957473,636.3002903387975,662.0569105742011,676.2946311358038,664.5912813957755,671.3516764076252,667.2795757536368,648.4411385733508,638.9604909021751,630.0857524037699,605.6712434755489,566.6873782287677,515.0099755187509,482.716267731493,454.7757353684903,456.5726918385773,467.46838106038626,470.7042334706424,461.40953448163623,442.8088877228314,404.4377679588593,379.62982032695396,380.3895533645497,397.70587725270946,399.8281254157685,450.54120112896436,524.9927694644049,596.3592239163951,621.441175305472,605.3206719178415,586.6008356896313,516.6646967596918,491.9268225013884,516.3636971776064,609.844668577084,620.9105227505592,617.9421386438482,638.628774026709,631.9305962737694,608.2512989684647,612.7744081892532,621.0315204973077,629.6289444672185,608.7623981966298,600.8640337771567,621.2765211807423,649.4338929780753,683.6972606589278,757.6897613727893,842.9454100157876,861.1564708347212,896.5293799841445,906.6696313474079,902.0166674438477,880.7928133587196,851.1116452380795,829.6207302626535,784.4446869639735,736.05922228778,701.6708557947778,693.9867788923107,697.7601072421434,669.0454651175278,609.1118857123168,549.8934521024526,548.8296779189961,571.6677279901344,542.9170320874197,499.4426918754169,525.4577850565422,571.4895254442805,580.463916050455,582.3507226660366,548.8897660735535,494.0950604717202,494.0867486802491,496.7419718606469,476.08728509271083,488.17247816115236,560.7017924406344,674.0522853201263,765.1488117117983,964.0884481623458,1106.7925466736988,1218.1504235651353,1280.7285106339752,1426.3368016665377,1590.1691541532177,1685.5721700804334,1834.5236441218658,1913.292141315209,1915.6964168548466,1843.5277806312672,1704.9723710100664,1516.5200841560945,1294.2266505516425,1080.4215591962065,1338.7083541741579,1425.630496171796,1273.8085261447727,1019.0461098396248,875.6314414480944,791.273993054413,782.5436942319755,723.3103432925731],\"type\":\"scatter\",\"xaxis\":\"x\",\"yaxis\":\"y\"},{\"name\":\"Daily prediction_bilstm HRC at last wednesday\",\"x\":[\"2022-03-29T00:00:00\",\"2022-03-30T00:00:00\",\"2022-03-31T00:00:00\",\"2022-04-01T00:00:00\",\"2022-04-04T00:00:00\",\"2022-04-05T00:00:00\",\"2022-04-06T00:00:00\",\"2022-04-07T00:00:00\",\"2022-04-08T00:00:00\",\"2022-04-11T00:00:00\",\"2022-04-12T00:00:00\",\"2022-04-13T00:00:00\",\"2022-04-14T00:00:00\",\"2022-04-15T00:00:00\",\"2022-04-18T00:00:00\",\"2022-04-19T00:00:00\",\"2022-04-20T00:00:00\",\"2022-04-21T00:00:00\",\"2022-04-22T00:00:00\",\"2022-04-25T00:00:00\",\"2022-04-26T00:00:00\",\"2022-04-27T00:00:00\",\"2022-04-28T00:00:00\",\"2022-04-29T00:00:00\",\"2022-04-30T00:00:00\",\"2022-05-01T00:00:00\",\"2022-05-02T00:00:00\",\"2022-05-03T00:00:00\",\"2022-05-04T00:00:00\",\"2022-05-05T00:00:00\",\"2022-05-06T00:00:00\",\"2022-05-09T00:00:00\",\"2022-05-10T00:00:00\",\"2022-05-11T00:00:00\",\"2022-05-12T00:00:00\",\"2022-05-13T00:00:00\",\"2022-05-16T00:00:00\",\"2022-05-17T00:00:00\",\"2022-05-18T00:00:00\",\"2022-05-19T00:00:00\",\"2022-05-20T00:00:00\",\"2022-05-23T00:00:00\",\"2022-05-24T00:00:00\",\"2022-05-25T00:00:00\",\"2022-05-26T00:00:00\",\"2022-05-27T00:00:00\",\"2022-05-30T00:00:00\",\"2022-05-31T00:00:00\",\"2022-06-01T00:00:00\",\"2022-06-02T00:00:00\",\"2022-06-03T00:00:00\",\"2022-06-06T00:00:00\",\"2022-06-07T00:00:00\",\"2022-06-08T00:00:00\",\"2022-06-09T00:00:00\",\"2022-06-10T00:00:00\",\"2022-06-13T00:00:00\",\"2022-06-14T00:00:00\",\"2022-06-15T00:00:00\",\"2022-06-16T00:00:00\",\"2022-06-17T00:00:00\",\"2022-06-20T00:00:00\",\"2022-06-21T00:00:00\",\"2022-06-22T00:00:00\",\"2022-06-23T00:00:00\",\"2022-06-24T00:00:00\",\"2022-06-27T00:00:00\",\"2022-06-28T00:00:00\",\"2022-06-29T00:00:00\",\"2022-06-30T00:00:00\",\"2022-07-01T00:00:00\",\"2022-07-04T00:00:00\",\"2022-07-05T00:00:00\",\"2022-07-06T00:00:00\",\"2022-07-07T00:00:00\",\"2022-07-08T00:00:00\",\"2022-07-11T00:00:00\",\"2022-07-12T00:00:00\",\"2022-07-13T00:00:00\",\"2022-07-14T00:00:00\",\"2022-07-15T00:00:00\",\"2022-07-18T00:00:00\",\"2022-07-19T00:00:00\",\"2022-07-20T00:00:00\",\"2022-07-21T00:00:00\",\"2022-07-22T00:00:00\",\"2022-07-25T00:00:00\",\"2022-07-26T00:00:00\",\"2022-07-27T00:00:00\",\"2022-07-28T00:00:00\",\"2022-07-29T00:00:00\",\"2022-07-31T00:00:00\",\"2022-08-01T00:00:00\",\"2022-08-02T00:00:00\",\"2022-08-03T00:00:00\",\"2022-08-04T00:00:00\",\"2022-08-05T00:00:00\",\"2022-08-08T00:00:00\",\"2022-08-09T00:00:00\",\"2022-08-10T00:00:00\",\"2022-08-11T00:00:00\",\"2022-08-12T00:00:00\",\"2022-08-15T00:00:00\",\"2022-08-16T00:00:00\",\"2022-08-17T00:00:00\",\"2022-08-18T00:00:00\",\"2022-08-19T00:00:00\",\"2022-08-22T00:00:00\",\"2022-08-23T00:00:00\",\"2022-08-24T00:00:00\",\"2022-08-25T00:00:00\",\"2022-08-26T00:00:00\",\"2022-08-29T00:00:00\",\"2022-08-30T00:00:00\",\"2022-08-31T00:00:00\",\"2022-09-01T00:00:00\",\"2022-09-02T00:00:00\",\"2022-09-05T00:00:00\",\"2022-09-06T00:00:00\",\"2022-09-07T00:00:00\",\"2022-09-08T00:00:00\",\"2022-09-09T00:00:00\",\"2022-09-12T00:00:00\",\"2022-09-13T00:00:00\",\"2022-09-14T00:00:00\",\"2022-09-15T00:00:00\",\"2022-09-16T00:00:00\",\"2022-09-19T00:00:00\",\"2022-09-20T00:00:00\",\"2022-09-21T00:00:00\",\"2022-09-22T00:00:00\",\"2022-09-23T00:00:00\",\"2022-09-26T00:00:00\",\"2022-09-27T00:00:00\",\"2022-09-28T00:00:00\",\"2022-09-29T00:00:00\",\"2022-09-30T00:00:00\",\"2022-10-03T00:00:00\",\"2022-10-04T00:00:00\",\"2022-10-05T00:00:00\",\"2022-10-06T00:00:00\",\"2022-10-07T00:00:00\",\"2022-10-10T00:00:00\",\"2022-10-11T00:00:00\",\"2022-10-12T00:00:00\",\"2022-10-13T00:00:00\",\"2022-10-14T00:00:00\",\"2022-10-17T00:00:00\",\"2022-10-18T00:00:00\",\"2022-10-19T00:00:00\",\"2022-10-20T00:00:00\",\"2022-10-21T00:00:00\",\"2022-10-24T00:00:00\",\"2022-10-25T00:00:00\",\"2022-10-26T00:00:00\",\"2022-10-27T00:00:00\",\"2022-10-28T00:00:00\",\"2022-10-31T00:00:00\",\"2022-11-01T00:00:00\",\"2022-11-02T00:00:00\",\"2022-11-03T00:00:00\",\"2022-11-04T00:00:00\",\"2022-11-07T00:00:00\",\"2022-11-08T00:00:00\",\"2022-11-09T00:00:00\",\"2022-11-10T00:00:00\",\"2022-11-11T00:00:00\"],\"y\":[952.3662109375,969.6510620117188,949.9158325195312,962.1513671875,974.52783203125,985.4306030273438,995.06298828125,1007.2271118164062,1016.857666015625,1024.2271728515625,1024.7657470703125,1035.3048095703125,1037.4239501953125,1038.748291015625,1035.57275390625,1029.1009521484375,1032.8135986328125,1036.0067138671875,1040.1309814453125,1046.156005859375,1049.2198486328125,1053.4085693359375,1026.0809326171875,1027.4239501953125,1024.930419921875,1017.4873046875,1005.6297607421875,989.9207763671875,979.3643188476562,963.2074584960938,947.3363647460938,942.6446533203125,935.8233032226562,930.8320922851562,923.7597045898438,916.0509033203125,906.5217895507812,901.550537109375,898.3421630859375,892.8486328125,887.529296875,881.5114135742188,873.5123291015625,868.361083984375,842.5252075195312,833.996826171875,825.8382568359375,822.100830078125,824.64794921875,813.4537353515625,804.99658203125,798.332763671875,783.5350952148438,780.5436401367188,774.9154052734375,767.8148803710938,767.05810546875,768.2733154296875,779.7891845703125,775.505126953125,769.1441040039062,768.170654296875,772.5684814453125,777.5048828125,774.7449340820312,776.4197387695312,778.5530395507812,776.2061767578125,775.485107421875,758.9192504882812,766.0979614257812,766.4359130859375,763.530029296875,763.6265258789062,749.2391967773438,735.911376953125,726.9674682617188,720.5,721.693359375,712.10498046875,706.7750244140625,700.333984375,693.3401489257812,691.8555297851562,679.5852661132812,667.75048828125,654.1590576171875,643.6301879882812,642.1768188476562,629.2090454101562,629.5455322265625,629.7991943359375,627.7046508789062,628.131103515625,627.9995727539062,624.8514404296875,621.9786376953125,618.4503173828125,617.5723266601562,613.2076416015625,611.829345703125,611.9198608398438,614.3662719726562,622.4821166992188,624.9766235351562,624.5350341796875,625.2449340820312,626.2835693359375,631.18994140625,636.2373657226562,635.5248413085938,640.4268798828125,645.458984375,654.4654541015625,659.1619262695312,662.0391845703125,659.5322265625,655.8032836914062,653.4282836914062,654.5219116210938,654.7098388671875,654.5833740234375,649.5798950195312,652.3018188476562,658.114501953125,656.797119140625,661.1143798828125,664.7628784179688,670.6725463867188,677.1859741210938,678.5491943359375,682.4199829101562,682.8804321289062,685.498779296875,689.5184326171875,684.155517578125,688.3274536132812,687.7437744140625,691.3967895507812,694.3450927734375,691.474609375,688.8258666992188,683.7169799804688,680.0816650390625,679.4494018554688,672.3427734375,670.3439331054688,666.8190307617188,666.376220703125,669.8934936523438,670.098388671875,672.3084716796875,671.515869140625,671.0856323242188,671.5720825195312,661.636962890625,662.70751953125,662.0671997070312,659.7020263671875,665.5359497070312,657.2908935546875,653.8966064453125,648.788330078125,645.20947265625,647.9414672851562,642.0303344726562,637.3318481445312],\"type\":\"scatter\",\"xaxis\":\"x\",\"yaxis\":\"y\"},{\"name\":\"Daily prediction_lstm HRC at last wednesday\",\"x\":[\"2022-03-29T00:00:00\",\"2022-03-30T00:00:00\",\"2022-03-31T00:00:00\",\"2022-04-01T00:00:00\",\"2022-04-04T00:00:00\",\"2022-04-05T00:00:00\",\"2022-04-06T00:00:00\",\"2022-04-07T00:00:00\",\"2022-04-08T00:00:00\",\"2022-04-11T00:00:00\",\"2022-04-12T00:00:00\",\"2022-04-13T00:00:00\",\"2022-04-14T00:00:00\",\"2022-04-15T00:00:00\",\"2022-04-18T00:00:00\",\"2022-04-19T00:00:00\",\"2022-04-20T00:00:00\",\"2022-04-21T00:00:00\",\"2022-04-22T00:00:00\",\"2022-04-25T00:00:00\",\"2022-04-26T00:00:00\",\"2022-04-27T00:00:00\",\"2022-04-28T00:00:00\",\"2022-04-29T00:00:00\",\"2022-04-30T00:00:00\",\"2022-05-01T00:00:00\",\"2022-05-02T00:00:00\",\"2022-05-03T00:00:00\",\"2022-05-04T00:00:00\",\"2022-05-05T00:00:00\",\"2022-05-06T00:00:00\",\"2022-05-09T00:00:00\",\"2022-05-10T00:00:00\",\"2022-05-11T00:00:00\",\"2022-05-12T00:00:00\",\"2022-05-13T00:00:00\",\"2022-05-16T00:00:00\",\"2022-05-17T00:00:00\",\"2022-05-18T00:00:00\",\"2022-05-19T00:00:00\",\"2022-05-20T00:00:00\",\"2022-05-23T00:00:00\",\"2022-05-24T00:00:00\",\"2022-05-25T00:00:00\",\"2022-05-26T00:00:00\",\"2022-05-27T00:00:00\",\"2022-05-30T00:00:00\",\"2022-05-31T00:00:00\",\"2022-06-01T00:00:00\",\"2022-06-02T00:00:00\",\"2022-06-03T00:00:00\",\"2022-06-06T00:00:00\",\"2022-06-07T00:00:00\",\"2022-06-08T00:00:00\",\"2022-06-09T00:00:00\",\"2022-06-10T00:00:00\",\"2022-06-13T00:00:00\",\"2022-06-14T00:00:00\",\"2022-06-15T00:00:00\",\"2022-06-16T00:00:00\",\"2022-06-17T00:00:00\",\"2022-06-20T00:00:00\",\"2022-06-21T00:00:00\",\"2022-06-22T00:00:00\",\"2022-06-23T00:00:00\",\"2022-06-24T00:00:00\",\"2022-06-27T00:00:00\",\"2022-06-28T00:00:00\",\"2022-06-29T00:00:00\",\"2022-06-30T00:00:00\",\"2022-07-01T00:00:00\",\"2022-07-04T00:00:00\",\"2022-07-05T00:00:00\",\"2022-07-06T00:00:00\",\"2022-07-07T00:00:00\",\"2022-07-08T00:00:00\",\"2022-07-11T00:00:00\",\"2022-07-12T00:00:00\",\"2022-07-13T00:00:00\",\"2022-07-14T00:00:00\",\"2022-07-15T00:00:00\",\"2022-07-18T00:00:00\",\"2022-07-19T00:00:00\",\"2022-07-20T00:00:00\",\"2022-07-21T00:00:00\",\"2022-07-22T00:00:00\",\"2022-07-25T00:00:00\",\"2022-07-26T00:00:00\",\"2022-07-27T00:00:00\",\"2022-07-28T00:00:00\",\"2022-07-29T00:00:00\",\"2022-07-31T00:00:00\",\"2022-08-01T00:00:00\",\"2022-08-02T00:00:00\",\"2022-08-03T00:00:00\",\"2022-08-04T00:00:00\",\"2022-08-05T00:00:00\",\"2022-08-08T00:00:00\",\"2022-08-09T00:00:00\",\"2022-08-10T00:00:00\",\"2022-08-11T00:00:00\",\"2022-08-12T00:00:00\",\"2022-08-15T00:00:00\",\"2022-08-16T00:00:00\",\"2022-08-17T00:00:00\",\"2022-08-18T00:00:00\",\"2022-08-19T00:00:00\",\"2022-08-22T00:00:00\",\"2022-08-23T00:00:00\",\"2022-08-24T00:00:00\",\"2022-08-25T00:00:00\",\"2022-08-26T00:00:00\",\"2022-08-29T00:00:00\",\"2022-08-30T00:00:00\",\"2022-08-31T00:00:00\",\"2022-09-01T00:00:00\",\"2022-09-02T00:00:00\",\"2022-09-05T00:00:00\",\"2022-09-06T00:00:00\",\"2022-09-07T00:00:00\",\"2022-09-08T00:00:00\",\"2022-09-09T00:00:00\",\"2022-09-12T00:00:00\",\"2022-09-13T00:00:00\",\"2022-09-14T00:00:00\",\"2022-09-15T00:00:00\",\"2022-09-16T00:00:00\",\"2022-09-19T00:00:00\",\"2022-09-20T00:00:00\",\"2022-09-21T00:00:00\",\"2022-09-22T00:00:00\",\"2022-09-23T00:00:00\",\"2022-09-26T00:00:00\",\"2022-09-27T00:00:00\",\"2022-09-28T00:00:00\",\"2022-09-29T00:00:00\",\"2022-09-30T00:00:00\",\"2022-10-03T00:00:00\",\"2022-10-04T00:00:00\",\"2022-10-05T00:00:00\",\"2022-10-06T00:00:00\",\"2022-10-07T00:00:00\",\"2022-10-10T00:00:00\",\"2022-10-11T00:00:00\",\"2022-10-12T00:00:00\",\"2022-10-13T00:00:00\",\"2022-10-14T00:00:00\",\"2022-10-17T00:00:00\",\"2022-10-18T00:00:00\",\"2022-10-19T00:00:00\",\"2022-10-20T00:00:00\",\"2022-10-21T00:00:00\",\"2022-10-24T00:00:00\",\"2022-10-25T00:00:00\",\"2022-10-26T00:00:00\",\"2022-10-27T00:00:00\",\"2022-10-28T00:00:00\",\"2022-10-31T00:00:00\",\"2022-11-01T00:00:00\",\"2022-11-02T00:00:00\",\"2022-11-03T00:00:00\",\"2022-11-04T00:00:00\",\"2022-11-07T00:00:00\",\"2022-11-08T00:00:00\",\"2022-11-09T00:00:00\",\"2022-11-10T00:00:00\",\"2022-11-11T00:00:00\"],\"y\":[1344.222412109375,1354.1640625,1355.20751953125,1352.4932861328125,1364.4976806640625,1378.5115966796875,1388.0186767578125,1396.2899169921875,1399.0916748046875,1406.4110107421875,1413.2467041015625,1418.179931640625,1422.060791015625,1419.7752685546875,1422.470947265625,1422.7935791015625,1426.9364013671875,1431.9195556640625,1430.3802490234375,1435.55419921875,1441.837646484375,1445.5230712890625,1444.61328125,1435.1019287109375,1431.831787109375,1422.300537109375,1419.84130859375,1419.30078125,1413.257568359375,1400.791259765625,1380.47900390625,1371.7293701171875,1374.626708984375,1377.3345947265625,1373.5830078125,1365.05322265625,1361.3363037109375,1357.37451171875,1351.9591064453125,1342.1138916015625,1328.739501953125,1320.7982177734375,1311.6395263671875,1303.3636474609375,1294.415283203125,1279.1943359375,1269.5506591796875,1262.4703369140625,1260.6058349609375,1257.64208984375,1246.35302734375,1233.57568359375,1219.2354736328125,1206.968017578125,1189.5025634765625,1170.220703125,1155.2838134765625,1149.1134033203125,1154.7310791015625,1149.4610595703125,1142.5972900390625,1139.2528076171875,1140.52392578125,1142.1553955078125,1131.6817626953125,1122.10009765625,1113.5367431640625,1106.251953125,1099.7777099609375,1085.2191162109375,1074.4571533203125,1065.0911865234375,1053.4390869140625,1042.27099609375,1012.7530517578125,982.77099609375,957.57763671875,939.8094482421875,928.663330078125,901.7918701171875,882.0402221679688,863.885009765625,850.8954467773438,843.3912963867188,823.5606689453125,809.6660766601562,796.3788452148438,786.7670288085938,780.1932983398438,771.1654052734375,769.4363403320312,766.5867919921875,760.7335815429688,762.11865234375,763.7402954101562,753.4747924804688,748.800537109375,745.207275390625,746.6961669921875,747.8984985351562,739.98046875,735.4011840820312,731.6118774414062,730.5416259765625,728.8712768554688,720.297119140625,717.1377563476562,714.1278076171875,712.1588745117188,714.5670776367188,712.8663940429688,713.1088256835938,711.3817749023438,711.2501220703125,713.3004150390625,708.0902099609375,706.0516357421875,703.06689453125,702.889404296875,706.37744140625,702.2958374023438,703.0270385742188,703.8101806640625,706.4229736328125,709.7389526367188,703.4281616210938,703.4696044921875,705.5208740234375,708.5651245117188,712.0358276367188,707.5112915039062,709.254638671875,710.0603637695312,711.7884521484375,715.7511596679688,714.6974487304688,716.3745727539062,714.3541259765625,718.6676635742188,720.5009765625,713.4196166992188,710.4841918945312,708.3655395507812,709.5218505859375,712.1875,707.2476806640625,706.009033203125,704.6660766601562,706.5377807617188,710.2622680664062,707.719482421875,708.9854736328125,709.904052734375,711.6312866210938,712.6486206054688,711.0962524414062,711.9971313476562,709.9906005859375,706.9736328125,712.0929565429688,705.7503051757812,702.4882202148438,698.7239990234375,696.4234008789062,698.263916015625,693.0289916992188,691.3858032226562],\"type\":\"scatter\",\"xaxis\":\"x\",\"yaxis\":\"y\"},{\"name\":\"Daily prediction_gru HRC at last wednesday\",\"x\":[\"2022-03-29T00:00:00\",\"2022-03-30T00:00:00\",\"2022-03-31T00:00:00\",\"2022-04-01T00:00:00\",\"2022-04-04T00:00:00\",\"2022-04-05T00:00:00\",\"2022-04-06T00:00:00\",\"2022-04-07T00:00:00\",\"2022-04-08T00:00:00\",\"2022-04-11T00:00:00\",\"2022-04-12T00:00:00\",\"2022-04-13T00:00:00\",\"2022-04-14T00:00:00\",\"2022-04-15T00:00:00\",\"2022-04-18T00:00:00\",\"2022-04-19T00:00:00\",\"2022-04-20T00:00:00\",\"2022-04-21T00:00:00\",\"2022-04-22T00:00:00\",\"2022-04-25T00:00:00\",\"2022-04-26T00:00:00\",\"2022-04-27T00:00:00\",\"2022-04-28T00:00:00\",\"2022-04-29T00:00:00\",\"2022-04-30T00:00:00\",\"2022-05-01T00:00:00\",\"2022-05-02T00:00:00\",\"2022-05-03T00:00:00\",\"2022-05-04T00:00:00\",\"2022-05-05T00:00:00\",\"2022-05-06T00:00:00\",\"2022-05-09T00:00:00\",\"2022-05-10T00:00:00\",\"2022-05-11T00:00:00\",\"2022-05-12T00:00:00\",\"2022-05-13T00:00:00\",\"2022-05-16T00:00:00\",\"2022-05-17T00:00:00\",\"2022-05-18T00:00:00\",\"2022-05-19T00:00:00\",\"2022-05-20T00:00:00\",\"2022-05-23T00:00:00\",\"2022-05-24T00:00:00\",\"2022-05-25T00:00:00\",\"2022-05-26T00:00:00\",\"2022-05-27T00:00:00\",\"2022-05-30T00:00:00\",\"2022-05-31T00:00:00\",\"2022-06-01T00:00:00\",\"2022-06-02T00:00:00\",\"2022-06-03T00:00:00\",\"2022-06-06T00:00:00\",\"2022-06-07T00:00:00\",\"2022-06-08T00:00:00\",\"2022-06-09T00:00:00\",\"2022-06-10T00:00:00\",\"2022-06-13T00:00:00\",\"2022-06-14T00:00:00\",\"2022-06-15T00:00:00\",\"2022-06-16T00:00:00\",\"2022-06-17T00:00:00\",\"2022-06-20T00:00:00\",\"2022-06-21T00:00:00\",\"2022-06-22T00:00:00\",\"2022-06-23T00:00:00\",\"2022-06-24T00:00:00\",\"2022-06-27T00:00:00\",\"2022-06-28T00:00:00\",\"2022-06-29T00:00:00\",\"2022-06-30T00:00:00\",\"2022-07-01T00:00:00\",\"2022-07-04T00:00:00\",\"2022-07-05T00:00:00\",\"2022-07-06T00:00:00\",\"2022-07-07T00:00:00\",\"2022-07-08T00:00:00\",\"2022-07-11T00:00:00\",\"2022-07-12T00:00:00\",\"2022-07-13T00:00:00\",\"2022-07-14T00:00:00\",\"2022-07-15T00:00:00\",\"2022-07-18T00:00:00\",\"2022-07-19T00:00:00\",\"2022-07-20T00:00:00\",\"2022-07-21T00:00:00\",\"2022-07-22T00:00:00\",\"2022-07-25T00:00:00\",\"2022-07-26T00:00:00\",\"2022-07-27T00:00:00\",\"2022-07-28T00:00:00\",\"2022-07-29T00:00:00\",\"2022-07-31T00:00:00\",\"2022-08-01T00:00:00\",\"2022-08-02T00:00:00\",\"2022-08-03T00:00:00\",\"2022-08-04T00:00:00\",\"2022-08-05T00:00:00\",\"2022-08-08T00:00:00\",\"2022-08-09T00:00:00\",\"2022-08-10T00:00:00\",\"2022-08-11T00:00:00\",\"2022-08-12T00:00:00\",\"2022-08-15T00:00:00\",\"2022-08-16T00:00:00\",\"2022-08-17T00:00:00\",\"2022-08-18T00:00:00\",\"2022-08-19T00:00:00\",\"2022-08-22T00:00:00\",\"2022-08-23T00:00:00\",\"2022-08-24T00:00:00\",\"2022-08-25T00:00:00\",\"2022-08-26T00:00:00\",\"2022-08-29T00:00:00\",\"2022-08-30T00:00:00\",\"2022-08-31T00:00:00\",\"2022-09-01T00:00:00\",\"2022-09-02T00:00:00\",\"2022-09-05T00:00:00\",\"2022-09-06T00:00:00\",\"2022-09-07T00:00:00\",\"2022-09-08T00:00:00\",\"2022-09-09T00:00:00\",\"2022-09-12T00:00:00\",\"2022-09-13T00:00:00\",\"2022-09-14T00:00:00\",\"2022-09-15T00:00:00\",\"2022-09-16T00:00:00\",\"2022-09-19T00:00:00\",\"2022-09-20T00:00:00\",\"2022-09-21T00:00:00\",\"2022-09-22T00:00:00\",\"2022-09-23T00:00:00\",\"2022-09-26T00:00:00\",\"2022-09-27T00:00:00\",\"2022-09-28T00:00:00\",\"2022-09-29T00:00:00\",\"2022-09-30T00:00:00\",\"2022-10-03T00:00:00\",\"2022-10-04T00:00:00\",\"2022-10-05T00:00:00\",\"2022-10-06T00:00:00\",\"2022-10-07T00:00:00\",\"2022-10-10T00:00:00\",\"2022-10-11T00:00:00\",\"2022-10-12T00:00:00\",\"2022-10-13T00:00:00\",\"2022-10-14T00:00:00\",\"2022-10-17T00:00:00\",\"2022-10-18T00:00:00\",\"2022-10-19T00:00:00\",\"2022-10-20T00:00:00\",\"2022-10-21T00:00:00\",\"2022-10-24T00:00:00\",\"2022-10-25T00:00:00\",\"2022-10-26T00:00:00\",\"2022-10-27T00:00:00\",\"2022-10-28T00:00:00\",\"2022-10-31T00:00:00\",\"2022-11-01T00:00:00\",\"2022-11-02T00:00:00\",\"2022-11-03T00:00:00\",\"2022-11-04T00:00:00\",\"2022-11-07T00:00:00\",\"2022-11-08T00:00:00\",\"2022-11-09T00:00:00\",\"2022-11-10T00:00:00\",\"2022-11-11T00:00:00\"],\"y\":[1053.747802734375,1062.1715087890625,1054.709716796875,1063.1827392578125,1071.25732421875,1080.1278076171875,1087.972900390625,1104.555419921875,1117.66552734375,1131.1236572265625,1138.127197265625,1144.9481201171875,1152.9417724609375,1158.1219482421875,1164.41357421875,1166.4150390625,1168.7625732421875,1173.4393310546875,1175.729248046875,1178.2415771484375,1176.250732421875,1174.145751953125,1168.2562255859375,1164.5401611328125,1163.218505859375,1161.146728515625,1148.62158203125,1134.14306640625,1124.5,1116.0267333984375,1109.3013916015625,1108.8673095703125,1107.211181640625,1104.1221923828125,1100.44970703125,1097.09765625,1097.1407470703125,1094.71533203125,1092.493408203125,1089.522216796875,1086.1199951171875,1084.3592529296875,1080.04296875,1076.98779296875,1074.7645263671875,1070.0030517578125,1067.563232421875,1063.701904296875,1062.3114013671875,1046.3909912109375,1031.0469970703125,1021.2853393554688,1011.5625610351562,1006.9291381835938,1000.5033569335938,992.720703125,987.9771728515625,984.4742431640625,985.5088500976562,979.44677734375,973.33056640625,969.6708374023438,963.4401245117188,959.7738037109375,953.1585693359375,945.8786010742188,942.1694946289062,936.7620239257812,934.4323120117188,932.8364868164062,925.15966796875,907.7869262695312,891.9423217773438,880.7180786132812,860.791015625,843.4171752929688,835.5132446289062,828.8951416015625,826.1345825195312,816.0386962890625,808.152099609375,803.2372436523438,798.8114013671875,799.8941650390625,793.4273681640625,786.0056762695312,781.677734375,776.5460205078125,776.3851318359375,778.8524780273438,779.2689208984375,780.9513549804688,779.538818359375,772.81005859375,769.4835815429688,760.411865234375,752.1866455078125,748.0732421875,745.6849975585938,745.2066040039062,741.694091796875,736.2632446289062,734.258056640625,730.0148315429688,727.3839111328125,723.5228881835938,719.9985961914062,718.5486450195312,712.9091796875,715.9203491210938,717.7596435546875,715.9924926757812,716.6152954101562,714.1255493164062,716.0673217773438,715.645263671875,707.7824096679688,703.8461303710938,698.922119140625,701.0278930664062,698.2194213867188,696.5559692382812,698.4600830078125,697.6802978515625,700.8297729492188,698.7721557617188,698.3890991210938,702.9110107421875,701.6917114257812,703.5908203125,702.3545532226562,703.4769287109375,704.7326049804688,701.9574584960938,705.5166625976562,708.2783203125,707.206787109375,705.1062622070312,700.5341796875,698.6903076171875,692.5095825195312,686.3385009765625,684.3693237304688,681.239013671875,684.0983276367188,680.9367065429688,677.23388671875,676.7351684570312,675.2182006835938,679.3389282226562,680.3530883789062,679.5614013671875,681.1328735351562,679.0570678710938,679.177001953125,681.779296875,678.544189453125,675.8583374023438,667.41943359375,672.57177734375,666.9365234375,659.6435546875,655.865478515625,649.0181274414062,652.6802978515625,649.920166015625,646.1956787109375],\"type\":\"scatter\",\"xaxis\":\"x\",\"yaxis\":\"y\"}],                        {\"template\":{\"data\":{\"bar\":[{\"error_x\":{\"color\":\"#2a3f5f\"},\"error_y\":{\"color\":\"#2a3f5f\"},\"marker\":{\"line\":{\"color\":\"#E5ECF6\",\"width\":0.5},\"pattern\":{\"fillmode\":\"overlay\",\"size\":10,\"solidity\":0.2}},\"type\":\"bar\"}],\"barpolar\":[{\"marker\":{\"line\":{\"color\":\"#E5ECF6\",\"width\":0.5},\"pattern\":{\"fillmode\":\"overlay\",\"size\":10,\"solidity\":0.2}},\"type\":\"barpolar\"}],\"carpet\":[{\"aaxis\":{\"endlinecolor\":\"#2a3f5f\",\"gridcolor\":\"white\",\"linecolor\":\"white\",\"minorgridcolor\":\"white\",\"startlinecolor\":\"#2a3f5f\"},\"baxis\":{\"endlinecolor\":\"#2a3f5f\",\"gridcolor\":\"white\",\"linecolor\":\"white\",\"minorgridcolor\":\"white\",\"startlinecolor\":\"#2a3f5f\"},\"type\":\"carpet\"}],\"choropleth\":[{\"colorbar\":{\"outlinewidth\":0,\"ticks\":\"\"},\"type\":\"choropleth\"}],\"contour\":[{\"colorbar\":{\"outlinewidth\":0,\"ticks\":\"\"},\"colorscale\":[[0.0,\"#0d0887\"],[0.1111111111111111,\"#46039f\"],[0.2222222222222222,\"#7201a8\"],[0.3333333333333333,\"#9c179e\"],[0.4444444444444444,\"#bd3786\"],[0.5555555555555556,\"#d8576b\"],[0.6666666666666666,\"#ed7953\"],[0.7777777777777778,\"#fb9f3a\"],[0.8888888888888888,\"#fdca26\"],[1.0,\"#f0f921\"]],\"type\":\"contour\"}],\"contourcarpet\":[{\"colorbar\":{\"outlinewidth\":0,\"ticks\":\"\"},\"type\":\"contourcarpet\"}],\"heatmap\":[{\"colorbar\":{\"outlinewidth\":0,\"ticks\":\"\"},\"colorscale\":[[0.0,\"#0d0887\"],[0.1111111111111111,\"#46039f\"],[0.2222222222222222,\"#7201a8\"],[0.3333333333333333,\"#9c179e\"],[0.4444444444444444,\"#bd3786\"],[0.5555555555555556,\"#d8576b\"],[0.6666666666666666,\"#ed7953\"],[0.7777777777777778,\"#fb9f3a\"],[0.8888888888888888,\"#fdca26\"],[1.0,\"#f0f921\"]],\"type\":\"heatmap\"}],\"heatmapgl\":[{\"colorbar\":{\"outlinewidth\":0,\"ticks\":\"\"},\"colorscale\":[[0.0,\"#0d0887\"],[0.1111111111111111,\"#46039f\"],[0.2222222222222222,\"#7201a8\"],[0.3333333333333333,\"#9c179e\"],[0.4444444444444444,\"#bd3786\"],[0.5555555555555556,\"#d8576b\"],[0.6666666666666666,\"#ed7953\"],[0.7777777777777778,\"#fb9f3a\"],[0.8888888888888888,\"#fdca26\"],[1.0,\"#f0f921\"]],\"type\":\"heatmapgl\"}],\"histogram\":[{\"marker\":{\"pattern\":{\"fillmode\":\"overlay\",\"size\":10,\"solidity\":0.2}},\"type\":\"histogram\"}],\"histogram2d\":[{\"colorbar\":{\"outlinewidth\":0,\"ticks\":\"\"},\"colorscale\":[[0.0,\"#0d0887\"],[0.1111111111111111,\"#46039f\"],[0.2222222222222222,\"#7201a8\"],[0.3333333333333333,\"#9c179e\"],[0.4444444444444444,\"#bd3786\"],[0.5555555555555556,\"#d8576b\"],[0.6666666666666666,\"#ed7953\"],[0.7777777777777778,\"#fb9f3a\"],[0.8888888888888888,\"#fdca26\"],[1.0,\"#f0f921\"]],\"type\":\"histogram2d\"}],\"histogram2dcontour\":[{\"colorbar\":{\"outlinewidth\":0,\"ticks\":\"\"},\"colorscale\":[[0.0,\"#0d0887\"],[0.1111111111111111,\"#46039f\"],[0.2222222222222222,\"#7201a8\"],[0.3333333333333333,\"#9c179e\"],[0.4444444444444444,\"#bd3786\"],[0.5555555555555556,\"#d8576b\"],[0.6666666666666666,\"#ed7953\"],[0.7777777777777778,\"#fb9f3a\"],[0.8888888888888888,\"#fdca26\"],[1.0,\"#f0f921\"]],\"type\":\"histogram2dcontour\"}],\"mesh3d\":[{\"colorbar\":{\"outlinewidth\":0,\"ticks\":\"\"},\"type\":\"mesh3d\"}],\"parcoords\":[{\"line\":{\"colorbar\":{\"outlinewidth\":0,\"ticks\":\"\"}},\"type\":\"parcoords\"}],\"pie\":[{\"automargin\":true,\"type\":\"pie\"}],\"scatter\":[{\"marker\":{\"colorbar\":{\"outlinewidth\":0,\"ticks\":\"\"}},\"type\":\"scatter\"}],\"scatter3d\":[{\"line\":{\"colorbar\":{\"outlinewidth\":0,\"ticks\":\"\"}},\"marker\":{\"colorbar\":{\"outlinewidth\":0,\"ticks\":\"\"}},\"type\":\"scatter3d\"}],\"scattercarpet\":[{\"marker\":{\"colorbar\":{\"outlinewidth\":0,\"ticks\":\"\"}},\"type\":\"scattercarpet\"}],\"scattergeo\":[{\"marker\":{\"colorbar\":{\"outlinewidth\":0,\"ticks\":\"\"}},\"type\":\"scattergeo\"}],\"scattergl\":[{\"marker\":{\"colorbar\":{\"outlinewidth\":0,\"ticks\":\"\"}},\"type\":\"scattergl\"}],\"scattermapbox\":[{\"marker\":{\"colorbar\":{\"outlinewidth\":0,\"ticks\":\"\"}},\"type\":\"scattermapbox\"}],\"scatterpolar\":[{\"marker\":{\"colorbar\":{\"outlinewidth\":0,\"ticks\":\"\"}},\"type\":\"scatterpolar\"}],\"scatterpolargl\":[{\"marker\":{\"colorbar\":{\"outlinewidth\":0,\"ticks\":\"\"}},\"type\":\"scatterpolargl\"}],\"scatterternary\":[{\"marker\":{\"colorbar\":{\"outlinewidth\":0,\"ticks\":\"\"}},\"type\":\"scatterternary\"}],\"surface\":[{\"colorbar\":{\"outlinewidth\":0,\"ticks\":\"\"},\"colorscale\":[[0.0,\"#0d0887\"],[0.1111111111111111,\"#46039f\"],[0.2222222222222222,\"#7201a8\"],[0.3333333333333333,\"#9c179e\"],[0.4444444444444444,\"#bd3786\"],[0.5555555555555556,\"#d8576b\"],[0.6666666666666666,\"#ed7953\"],[0.7777777777777778,\"#fb9f3a\"],[0.8888888888888888,\"#fdca26\"],[1.0,\"#f0f921\"]],\"type\":\"surface\"}],\"table\":[{\"cells\":{\"fill\":{\"color\":\"#EBF0F8\"},\"line\":{\"color\":\"white\"}},\"header\":{\"fill\":{\"color\":\"#C8D4E3\"},\"line\":{\"color\":\"white\"}},\"type\":\"table\"}]},\"layout\":{\"annotationdefaults\":{\"arrowcolor\":\"#2a3f5f\",\"arrowhead\":0,\"arrowwidth\":1},\"autotypenumbers\":\"strict\",\"coloraxis\":{\"colorbar\":{\"outlinewidth\":0,\"ticks\":\"\"}},\"colorscale\":{\"diverging\":[[0,\"#8e0152\"],[0.1,\"#c51b7d\"],[0.2,\"#de77ae\"],[0.3,\"#f1b6da\"],[0.4,\"#fde0ef\"],[0.5,\"#f7f7f7\"],[0.6,\"#e6f5d0\"],[0.7,\"#b8e186\"],[0.8,\"#7fbc41\"],[0.9,\"#4d9221\"],[1,\"#276419\"]],\"sequential\":[[0.0,\"#0d0887\"],[0.1111111111111111,\"#46039f\"],[0.2222222222222222,\"#7201a8\"],[0.3333333333333333,\"#9c179e\"],[0.4444444444444444,\"#bd3786\"],[0.5555555555555556,\"#d8576b\"],[0.6666666666666666,\"#ed7953\"],[0.7777777777777778,\"#fb9f3a\"],[0.8888888888888888,\"#fdca26\"],[1.0,\"#f0f921\"]],\"sequentialminus\":[[0.0,\"#0d0887\"],[0.1111111111111111,\"#46039f\"],[0.2222222222222222,\"#7201a8\"],[0.3333333333333333,\"#9c179e\"],[0.4444444444444444,\"#bd3786\"],[0.5555555555555556,\"#d8576b\"],[0.6666666666666666,\"#ed7953\"],[0.7777777777777778,\"#fb9f3a\"],[0.8888888888888888,\"#fdca26\"],[1.0,\"#f0f921\"]]},\"colorway\":[\"#636efa\",\"#EF553B\",\"#00cc96\",\"#ab63fa\",\"#FFA15A\",\"#19d3f3\",\"#FF6692\",\"#B6E880\",\"#FF97FF\",\"#FECB52\"],\"font\":{\"color\":\"#2a3f5f\"},\"geo\":{\"bgcolor\":\"white\",\"lakecolor\":\"white\",\"landcolor\":\"#E5ECF6\",\"showlakes\":true,\"showland\":true,\"subunitcolor\":\"white\"},\"hoverlabel\":{\"align\":\"left\"},\"hovermode\":\"closest\",\"mapbox\":{\"style\":\"light\"},\"paper_bgcolor\":\"white\",\"plot_bgcolor\":\"#E5ECF6\",\"polar\":{\"angularaxis\":{\"gridcolor\":\"white\",\"linecolor\":\"white\",\"ticks\":\"\"},\"bgcolor\":\"#E5ECF6\",\"radialaxis\":{\"gridcolor\":\"white\",\"linecolor\":\"white\",\"ticks\":\"\"}},\"scene\":{\"xaxis\":{\"backgroundcolor\":\"#E5ECF6\",\"gridcolor\":\"white\",\"gridwidth\":2,\"linecolor\":\"white\",\"showbackground\":true,\"ticks\":\"\",\"zerolinecolor\":\"white\"},\"yaxis\":{\"backgroundcolor\":\"#E5ECF6\",\"gridcolor\":\"white\",\"gridwidth\":2,\"linecolor\":\"white\",\"showbackground\":true,\"ticks\":\"\",\"zerolinecolor\":\"white\"},\"zaxis\":{\"backgroundcolor\":\"#E5ECF6\",\"gridcolor\":\"white\",\"gridwidth\":2,\"linecolor\":\"white\",\"showbackground\":true,\"ticks\":\"\",\"zerolinecolor\":\"white\"}},\"shapedefaults\":{\"line\":{\"color\":\"#2a3f5f\"}},\"ternary\":{\"aaxis\":{\"gridcolor\":\"white\",\"linecolor\":\"white\",\"ticks\":\"\"},\"baxis\":{\"gridcolor\":\"white\",\"linecolor\":\"white\",\"ticks\":\"\"},\"bgcolor\":\"#E5ECF6\",\"caxis\":{\"gridcolor\":\"white\",\"linecolor\":\"white\",\"ticks\":\"\"}},\"title\":{\"x\":0.05},\"xaxis\":{\"automargin\":true,\"gridcolor\":\"white\",\"linecolor\":\"white\",\"ticks\":\"\",\"title\":{\"standoff\":15},\"zerolinecolor\":\"white\",\"zerolinewidth\":2},\"yaxis\":{\"automargin\":true,\"gridcolor\":\"white\",\"linecolor\":\"white\",\"ticks\":\"\",\"title\":{\"standoff\":15},\"zerolinecolor\":\"white\",\"zerolinewidth\":2}}},\"xaxis\":{\"anchor\":\"y\",\"domain\":[0.0,0.94],\"title\":{\"text\":\"Date\"}},\"yaxis\":{\"anchor\":\"x\",\"domain\":[0.0,1.0],\"title\":{\"text\":\"<b>Original</b> [Rands]\"}},\"yaxis2\":{\"anchor\":\"x\",\"overlaying\":\"y\",\"side\":\"right\",\"title\":{\"text\":\"<b>Absolute Error %</b>\"}},\"title\":{\"text\":\"Daily prediction of last wednesday of the month\"},\"shapes\":[{\"type\":\"line\",\"x0\":\"2022-02-14T00:00:00\",\"x1\":\"2022-02-14T00:00:00\",\"xref\":\"x\",\"y0\":0,\"y1\":1,\"yref\":\"y domain\"}]},                        {\"responsive\": true}                    ).then(function(){\n",
              "                            \n",
              "var gd = document.getElementById('00a1c960-7c83-4d94-8355-27088cc7e538');\n",
              "var x = new MutationObserver(function (mutations, observer) {{\n",
              "        var display = window.getComputedStyle(gd).display;\n",
              "        if (!display || display === 'none') {{\n",
              "            console.log([gd, 'removed!']);\n",
              "            Plotly.purge(gd);\n",
              "            observer.disconnect();\n",
              "        }}\n",
              "}});\n",
              "\n",
              "// Listen for the removal of the full notebook cells\n",
              "var notebookContainer = gd.closest('#notebook-container');\n",
              "if (notebookContainer) {{\n",
              "    x.observe(notebookContainer, {childList: true});\n",
              "}}\n",
              "\n",
              "// Listen for the clearing of the current output cell\n",
              "var outputEl = gd.closest('.output');\n",
              "if (outputEl) {{\n",
              "    x.observe(outputEl, {childList: true});\n",
              "}}\n",
              "\n",
              "                        })                };                            </script>        </div>\n",
              "</body>\n",
              "</html>"
            ]
          },
          "metadata": {}
        }
      ]
    },
    {
      "cell_type": "code",
      "source": [
        "# Make prediction\n",
        "def prediction(model):\n",
        "    prediction = model.predict(X_test)\n",
        "    prediction = scaler_y.inverse_transform(prediction)\n",
        "    return prediction\n",
        "prediction_bilstm = prediction(model_bilstm)\n",
        "prediction_lstm = prediction(model_lstm)\n",
        "prediction_gru = prediction(model_gru)\n",
        "# Plot true future vs prediction\n",
        "def plot_future(prediction, y_test):\n",
        "    plt.figure(figsize=(10, 6))\n",
        "    range_future = len(prediction)\n",
        "    plt.plot(np.arange(range_future), np.array(y_test), \n",
        "             label='True Future')     \n",
        "    plt.plot(np.arange(range_future),np.array(prediction),\n",
        "            label='Prediction')\n",
        "    plt.legend(loc='upper left')\n",
        "    plt.xlabel('Time (day)')\n",
        "    plt.ylabel('Daily water consumption ($m^3$/capita.day)')\n",
        "\n",
        "plot_future(prediction_bilstm, y_test)\n",
        "plot_future(prediction_lstm, y_test)\n",
        "plot_future(prediction_gru, y_test)"
      ],
      "metadata": {
        "colab": {
          "base_uri": "https://localhost:8080/",
          "height": 1000
        },
        "id": "rCTriv_waPWz",
        "outputId": "9bf47b49-ac3c-4253-f700-b8e5837b2f1a"
      },
      "execution_count": null,
      "outputs": [
        {
          "output_type": "stream",
          "name": "stdout",
          "text": [
            "6/6 [==============================] - 0s 5ms/step\n",
            "6/6 [==============================] - 0s 3ms/step\n",
            "6/6 [==============================] - 0s 3ms/step\n"
          ]
        },
        {
          "output_type": "display_data",
          "data": {
            "text/plain": [
              "<Figure size 720x432 with 1 Axes>"
            ],
            "image/png": "[encoded data removed]"
          },
          "metadata": {
            "needs_background": "light"
          }
        },
        {
          "output_type": "display_data",
          "data": {
            "text/plain": [
              "<Figure size 720x432 with 1 Axes>"
            ],
            "image/png": "[encoded data removed]"
          },
          "metadata": {
            "needs_background": "light"
          }
        },
        {
          "output_type": "display_data",
          "data": {
            "text/plain": [
              "<Figure size 720x432 with 1 Axes>"
            ],
            "image/png": "[encoded data removed]"
          },
          "metadata": {
            "needs_background": "light"
          }
        }
      ]
    },
    {
      "cell_type": "code",
      "source": [
        "# Define a function to calculate MAE and RMSE\n",
        "def evaluate_prediction(predictions, actual, model_name):\n",
        "    errors = predictions - actual\n",
        "    mse = np.square(errors).mean()\n",
        "    rmse = np.sqrt(mse)\n",
        "    mae = np.abs(errors).mean()\n",
        "\n",
        "    print(model_name + ':')\n",
        "    print('Mean Absolute Error: {:.4f}'.format(mae))\n",
        "    print('Root Mean Square Error: {:.4f}'.format(rmse))\n",
        "    print('')\n",
        "\n",
        "    \n",
        "evaluate_prediction(prediction_bilstm, y_test, 'Bidirectional LSTM')\n",
        "evaluate_prediction(prediction_lstm, y_test, 'LSTM')\n",
        "evaluate_prediction(prediction_gru, y_test, 'GRU')"
      ],
      "metadata": {
        "colab": {
          "base_uri": "https://localhost:8080/"
        },
        "id": "i0A3mEXxaRfz",
        "outputId": "c04f5035-b4e1-4062-fb79-362a3f41c848"
      },
      "execution_count": null,
      "outputs": [
        {
          "output_type": "stream",
          "name": "stdout",
          "text": [
            "Bidirectional LSTM:\n",
            "Mean Absolute Error: 163.2091\n",
            "Root Mean Square Error: 194.4572\n",
            "\n",
            "LSTM:\n",
            "Mean Absolute Error: 99.8870\n",
            "Root Mean Square Error: 135.8555\n",
            "\n",
            "GRU:\n",
            "Mean Absolute Error: 79.1312\n",
            "Root Mean Square Error: 110.2944\n",
            "\n"
          ]
        }
      ]
    },
    {
      "cell_type": "code",
      "source": [
        "# Plot histoy and future data\n",
        "def plot_history_future(y_train, prediction):\n",
        "    plt.figure(figsize=(10, 6))\n",
        "    range_history = len(y_train)\n",
        "    range_future = list(range(range_history, range_history +\n",
        "                   len(prediction)))\n",
        "    plt.plot(np.arange(range_history), np.array(y_train), \n",
        "             label='History')\n",
        "    plt.plot(range_future, np.array(prediction),label='Prediction')\n",
        "    plt.legend(loc='upper right')\n",
        "    plt.xlabel('Date')\n",
        "    plt.ylabel('Last_wed__hrc')"
      ],
      "metadata": {
        "id": "wP0wYRrsapw3"
      },
      "execution_count": null,
      "outputs": []
    },
    {
      "cell_type": "code",
      "source": [
        "# Multi-step forecasting \n",
        "def forecast(X_input, time_steps):\n",
        "    # Scale the unseen input with the scaler fitted on the train set\n",
        "    X = input_scaler.transform(X_input)\n",
        "    # Reshape unseen data to a 3D input\n",
        "    Xs = []\n",
        "    for i in range(len(X) - time_steps):\n",
        "        v = X[i:i+time_steps, :]\n",
        "        Xs.append(v)\n",
        "    X_transformed = np.array(Xs)\n",
        "\n",
        "    # Make prediction for unseen data using LSTM model\n",
        "    prediction = model_bilstm.predict(X_transformed)\n",
        "    prediction_actual = scaler_y.inverse_transform(prediction)\n",
        "    return prediction_actual\n",
        "      "
      ],
      "metadata": {
        "id": "oKsV-L7pbLgD"
      },
      "execution_count": null,
      "outputs": []
    },
    {
      "cell_type": "code",
      "source": [
        "df.columns"
      ],
      "metadata": {
        "colab": {
          "base_uri": "https://localhost:8080/"
        },
        "id": "5aX5cQ5dhwj4",
        "outputId": "b6db4153-4c57-48bb-a11e-7c71243f4716"
      },
      "execution_count": null,
      "outputs": [
        {
          "output_type": "execute_result",
          "data": {
            "text/plain": [
              "Index(['Date', 'hrc', 'iron', 'natural_gas', 'copper', 'oil', 'us_ppi',\n",
              "       'us_ism_pmi', 'Weekday', 'Month', 'isWednesday', 'is_last_wednesday',\n",
              "       'Daily_Variance', 'hrc_L5', 'hrc_L10', 'hrc_L15', 'quarter', 'month',\n",
              "       'year', 'dayofyear', 'dayofmonth', 'Last_Wednesday_HRC',\n",
              "       'Last_Wednesday_Date', 'hrc_smoothed'],\n",
              "      dtype='object')"
            ]
          },
          "metadata": {},
          "execution_count": 151
        }
      ]
    },
    {
      "cell_type": "code",
      "source": [
        "X_new = df[['hrc', 'iron', 'natural_gas', 'copper', 'oil', 'us_ppi',\n",
        "       'us_ism_pmi', 'Weekday', 'Month', 'isWednesday', 'is_last_wednesday',\n",
        "       'Daily_Variance', 'hrc_L5', 'hrc_L10', 'hrc_L15', 'quarter', 'month',\n",
        "       'year', 'dayofyear', 'dayofmonth', 'hrc_smoothed']][-65:]\n",
        "\n",
        "prediction = forecast(X_new, TIME_STEPS)\n",
        "plot_history_future(y_train, prediction)"
      ],
      "metadata": {
        "colab": {
          "base_uri": "https://localhost:8080/",
          "height": 408
        },
        "id": "IjW42H2HbPWH",
        "outputId": "854317b7-7e2c-473b-ffd3-c4d87abc80cf"
      },
      "execution_count": null,
      "outputs": [
        {
          "output_type": "stream",
          "name": "stdout",
          "text": [
            "2/2 [==============================] - 0s 11ms/step\n"
          ]
        },
        {
          "output_type": "display_data",
          "data": {
            "text/plain": [
              "<Figure size 720x432 with 1 Axes>"
            ],
            "image/png": "[encoded data removed]"
          },
          "metadata": {
            "needs_background": "light"
          }
        }
      ]
    },
    {
      "cell_type": "code",
      "source": [],
      "metadata": {
        "id": "XR5t-M5Qh5wk"
      },
      "execution_count": null,
      "outputs": []
    }
  ]
}